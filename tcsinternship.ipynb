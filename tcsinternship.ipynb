{
 "cells": [
  {
   "cell_type": "code",
   "execution_count": 3,
   "metadata": {},
   "outputs": [],
   "source": [
    "#importing libraries"
   ]
  },
  {
   "cell_type": "code",
   "execution_count": 4,
   "metadata": {},
   "outputs": [],
   "source": [
    "import pandas as pd\n",
    "import numpy as np\n",
    "import seaborn as sns\n",
    "import matplotlib.pyplot as plt\n",
    "from sklearn.linear_model import LogisticRegression\n",
    "from sklearn.model_selection import train_test_split\n",
    "from sklearn import metrics"
   ]
  },
  {
   "cell_type": "code",
   "execution_count": null,
   "metadata": {},
   "outputs": [],
   "source": [
    "#loading dataset"
   ]
  },
  {
   "cell_type": "code",
   "execution_count": 64,
   "metadata": {},
   "outputs": [],
   "source": [
    "data=pd.read_csv(r\"C:\\Users\\JUSTIN\\Downloads\\TCS iON internship\\salarydata.csv\")"
   ]
  },
  {
   "cell_type": "code",
   "execution_count": null,
   "metadata": {},
   "outputs": [],
   "source": [
    "#analysing the data"
   ]
  },
  {
   "cell_type": "code",
   "execution_count": 65,
   "metadata": {},
   "outputs": [
    {
     "data": {
      "text/html": [
       "<div>\n",
       "<style scoped>\n",
       "    .dataframe tbody tr th:only-of-type {\n",
       "        vertical-align: middle;\n",
       "    }\n",
       "\n",
       "    .dataframe tbody tr th {\n",
       "        vertical-align: top;\n",
       "    }\n",
       "\n",
       "    .dataframe thead th {\n",
       "        text-align: right;\n",
       "    }\n",
       "</style>\n",
       "<table border=\"1\" class=\"dataframe\">\n",
       "  <thead>\n",
       "    <tr style=\"text-align: right;\">\n",
       "      <th></th>\n",
       "      <th>age</th>\n",
       "      <th>workclass</th>\n",
       "      <th>education</th>\n",
       "      <th>education-num</th>\n",
       "      <th>marital-status</th>\n",
       "      <th>occupation</th>\n",
       "      <th>relationship</th>\n",
       "      <th>race</th>\n",
       "      <th>sex</th>\n",
       "      <th>capital-gain</th>\n",
       "      <th>capital-loss</th>\n",
       "      <th>hours-per-week</th>\n",
       "      <th>native-country</th>\n",
       "      <th>salary</th>\n",
       "    </tr>\n",
       "  </thead>\n",
       "  <tbody>\n",
       "    <tr>\n",
       "      <td>0</td>\n",
       "      <td>39</td>\n",
       "      <td>State-gov</td>\n",
       "      <td>Bachelors</td>\n",
       "      <td>13</td>\n",
       "      <td>Never-married</td>\n",
       "      <td>Adm-clerical</td>\n",
       "      <td>Not-in-family</td>\n",
       "      <td>White</td>\n",
       "      <td>Male</td>\n",
       "      <td>2174</td>\n",
       "      <td>0</td>\n",
       "      <td>40</td>\n",
       "      <td>United-States</td>\n",
       "      <td>&lt;=50K</td>\n",
       "    </tr>\n",
       "    <tr>\n",
       "      <td>1</td>\n",
       "      <td>50</td>\n",
       "      <td>Self-emp-not-inc</td>\n",
       "      <td>Bachelors</td>\n",
       "      <td>13</td>\n",
       "      <td>Married-civ-spouse</td>\n",
       "      <td>Exec-managerial</td>\n",
       "      <td>Husband</td>\n",
       "      <td>White</td>\n",
       "      <td>Male</td>\n",
       "      <td>0</td>\n",
       "      <td>0</td>\n",
       "      <td>13</td>\n",
       "      <td>United-States</td>\n",
       "      <td>&lt;=50K</td>\n",
       "    </tr>\n",
       "    <tr>\n",
       "      <td>2</td>\n",
       "      <td>38</td>\n",
       "      <td>Private</td>\n",
       "      <td>HS-grad</td>\n",
       "      <td>9</td>\n",
       "      <td>Divorced</td>\n",
       "      <td>Handlers-cleaners</td>\n",
       "      <td>Not-in-family</td>\n",
       "      <td>White</td>\n",
       "      <td>Male</td>\n",
       "      <td>0</td>\n",
       "      <td>0</td>\n",
       "      <td>40</td>\n",
       "      <td>United-States</td>\n",
       "      <td>&lt;=50K</td>\n",
       "    </tr>\n",
       "    <tr>\n",
       "      <td>3</td>\n",
       "      <td>53</td>\n",
       "      <td>Private</td>\n",
       "      <td>11th</td>\n",
       "      <td>7</td>\n",
       "      <td>Married-civ-spouse</td>\n",
       "      <td>Handlers-cleaners</td>\n",
       "      <td>Husband</td>\n",
       "      <td>Black</td>\n",
       "      <td>Male</td>\n",
       "      <td>0</td>\n",
       "      <td>0</td>\n",
       "      <td>40</td>\n",
       "      <td>United-States</td>\n",
       "      <td>&lt;=50K</td>\n",
       "    </tr>\n",
       "    <tr>\n",
       "      <td>4</td>\n",
       "      <td>28</td>\n",
       "      <td>Private</td>\n",
       "      <td>Bachelors</td>\n",
       "      <td>13</td>\n",
       "      <td>Married-civ-spouse</td>\n",
       "      <td>Prof-specialty</td>\n",
       "      <td>Wife</td>\n",
       "      <td>Black</td>\n",
       "      <td>Female</td>\n",
       "      <td>0</td>\n",
       "      <td>0</td>\n",
       "      <td>40</td>\n",
       "      <td>Cuba</td>\n",
       "      <td>&lt;=50K</td>\n",
       "    </tr>\n",
       "    <tr>\n",
       "      <td>...</td>\n",
       "      <td>...</td>\n",
       "      <td>...</td>\n",
       "      <td>...</td>\n",
       "      <td>...</td>\n",
       "      <td>...</td>\n",
       "      <td>...</td>\n",
       "      <td>...</td>\n",
       "      <td>...</td>\n",
       "      <td>...</td>\n",
       "      <td>...</td>\n",
       "      <td>...</td>\n",
       "      <td>...</td>\n",
       "      <td>...</td>\n",
       "      <td>...</td>\n",
       "    </tr>\n",
       "    <tr>\n",
       "      <td>32556</td>\n",
       "      <td>27</td>\n",
       "      <td>Private</td>\n",
       "      <td>Assoc-acdm</td>\n",
       "      <td>12</td>\n",
       "      <td>Married-civ-spouse</td>\n",
       "      <td>Tech-support</td>\n",
       "      <td>Wife</td>\n",
       "      <td>White</td>\n",
       "      <td>Female</td>\n",
       "      <td>0</td>\n",
       "      <td>0</td>\n",
       "      <td>38</td>\n",
       "      <td>United-States</td>\n",
       "      <td>&lt;=50K</td>\n",
       "    </tr>\n",
       "    <tr>\n",
       "      <td>32557</td>\n",
       "      <td>40</td>\n",
       "      <td>Private</td>\n",
       "      <td>HS-grad</td>\n",
       "      <td>9</td>\n",
       "      <td>Married-civ-spouse</td>\n",
       "      <td>Machine-op-inspct</td>\n",
       "      <td>Husband</td>\n",
       "      <td>White</td>\n",
       "      <td>Male</td>\n",
       "      <td>0</td>\n",
       "      <td>0</td>\n",
       "      <td>40</td>\n",
       "      <td>United-States</td>\n",
       "      <td>&gt;50K</td>\n",
       "    </tr>\n",
       "    <tr>\n",
       "      <td>32558</td>\n",
       "      <td>58</td>\n",
       "      <td>Private</td>\n",
       "      <td>HS-grad</td>\n",
       "      <td>9</td>\n",
       "      <td>Widowed</td>\n",
       "      <td>Adm-clerical</td>\n",
       "      <td>Unmarried</td>\n",
       "      <td>White</td>\n",
       "      <td>Female</td>\n",
       "      <td>0</td>\n",
       "      <td>0</td>\n",
       "      <td>40</td>\n",
       "      <td>United-States</td>\n",
       "      <td>&lt;=50K</td>\n",
       "    </tr>\n",
       "    <tr>\n",
       "      <td>32559</td>\n",
       "      <td>22</td>\n",
       "      <td>Private</td>\n",
       "      <td>HS-grad</td>\n",
       "      <td>9</td>\n",
       "      <td>Never-married</td>\n",
       "      <td>Adm-clerical</td>\n",
       "      <td>Own-child</td>\n",
       "      <td>White</td>\n",
       "      <td>Male</td>\n",
       "      <td>0</td>\n",
       "      <td>0</td>\n",
       "      <td>20</td>\n",
       "      <td>United-States</td>\n",
       "      <td>&lt;=50K</td>\n",
       "    </tr>\n",
       "    <tr>\n",
       "      <td>32560</td>\n",
       "      <td>52</td>\n",
       "      <td>Self-emp-inc</td>\n",
       "      <td>HS-grad</td>\n",
       "      <td>9</td>\n",
       "      <td>Married-civ-spouse</td>\n",
       "      <td>Exec-managerial</td>\n",
       "      <td>Wife</td>\n",
       "      <td>White</td>\n",
       "      <td>Female</td>\n",
       "      <td>15024</td>\n",
       "      <td>0</td>\n",
       "      <td>40</td>\n",
       "      <td>United-States</td>\n",
       "      <td>&gt;50K</td>\n",
       "    </tr>\n",
       "  </tbody>\n",
       "</table>\n",
       "<p>32561 rows × 14 columns</p>\n",
       "</div>"
      ],
      "text/plain": [
       "       age         workclass   education  education-num      marital-status  \\\n",
       "0       39         State-gov   Bachelors             13       Never-married   \n",
       "1       50  Self-emp-not-inc   Bachelors             13  Married-civ-spouse   \n",
       "2       38           Private     HS-grad              9            Divorced   \n",
       "3       53           Private        11th              7  Married-civ-spouse   \n",
       "4       28           Private   Bachelors             13  Married-civ-spouse   \n",
       "...    ...               ...         ...            ...                 ...   \n",
       "32556   27           Private  Assoc-acdm             12  Married-civ-spouse   \n",
       "32557   40           Private     HS-grad              9  Married-civ-spouse   \n",
       "32558   58           Private     HS-grad              9             Widowed   \n",
       "32559   22           Private     HS-grad              9       Never-married   \n",
       "32560   52      Self-emp-inc     HS-grad              9  Married-civ-spouse   \n",
       "\n",
       "              occupation   relationship   race     sex  capital-gain  \\\n",
       "0           Adm-clerical  Not-in-family  White    Male          2174   \n",
       "1        Exec-managerial        Husband  White    Male             0   \n",
       "2      Handlers-cleaners  Not-in-family  White    Male             0   \n",
       "3      Handlers-cleaners        Husband  Black    Male             0   \n",
       "4         Prof-specialty           Wife  Black  Female             0   \n",
       "...                  ...            ...    ...     ...           ...   \n",
       "32556       Tech-support           Wife  White  Female             0   \n",
       "32557  Machine-op-inspct        Husband  White    Male             0   \n",
       "32558       Adm-clerical      Unmarried  White  Female             0   \n",
       "32559       Adm-clerical      Own-child  White    Male             0   \n",
       "32560    Exec-managerial           Wife  White  Female         15024   \n",
       "\n",
       "       capital-loss  hours-per-week native-country salary  \n",
       "0                 0              40  United-States  <=50K  \n",
       "1                 0              13  United-States  <=50K  \n",
       "2                 0              40  United-States  <=50K  \n",
       "3                 0              40  United-States  <=50K  \n",
       "4                 0              40           Cuba  <=50K  \n",
       "...             ...             ...            ...    ...  \n",
       "32556             0              38  United-States  <=50K  \n",
       "32557             0              40  United-States   >50K  \n",
       "32558             0              40  United-States  <=50K  \n",
       "32559             0              20  United-States  <=50K  \n",
       "32560             0              40  United-States   >50K  \n",
       "\n",
       "[32561 rows x 14 columns]"
      ]
     },
     "execution_count": 65,
     "metadata": {},
     "output_type": "execute_result"
    }
   ],
   "source": [
    "data"
   ]
  },
  {
   "cell_type": "code",
   "execution_count": 66,
   "metadata": {},
   "outputs": [
    {
     "data": {
      "text/html": [
       "<div>\n",
       "<style scoped>\n",
       "    .dataframe tbody tr th:only-of-type {\n",
       "        vertical-align: middle;\n",
       "    }\n",
       "\n",
       "    .dataframe tbody tr th {\n",
       "        vertical-align: top;\n",
       "    }\n",
       "\n",
       "    .dataframe thead th {\n",
       "        text-align: right;\n",
       "    }\n",
       "</style>\n",
       "<table border=\"1\" class=\"dataframe\">\n",
       "  <thead>\n",
       "    <tr style=\"text-align: right;\">\n",
       "      <th></th>\n",
       "      <th>age</th>\n",
       "      <th>workclass</th>\n",
       "      <th>education</th>\n",
       "      <th>education-num</th>\n",
       "      <th>marital-status</th>\n",
       "      <th>occupation</th>\n",
       "      <th>relationship</th>\n",
       "      <th>race</th>\n",
       "      <th>sex</th>\n",
       "      <th>capital-gain</th>\n",
       "      <th>capital-loss</th>\n",
       "      <th>hours-per-week</th>\n",
       "      <th>native-country</th>\n",
       "      <th>salary</th>\n",
       "    </tr>\n",
       "  </thead>\n",
       "  <tbody>\n",
       "    <tr>\n",
       "      <td>0</td>\n",
       "      <td>39</td>\n",
       "      <td>State-gov</td>\n",
       "      <td>Bachelors</td>\n",
       "      <td>13</td>\n",
       "      <td>Never-married</td>\n",
       "      <td>Adm-clerical</td>\n",
       "      <td>Not-in-family</td>\n",
       "      <td>White</td>\n",
       "      <td>Male</td>\n",
       "      <td>2174</td>\n",
       "      <td>0</td>\n",
       "      <td>40</td>\n",
       "      <td>United-States</td>\n",
       "      <td>&lt;=50K</td>\n",
       "    </tr>\n",
       "    <tr>\n",
       "      <td>1</td>\n",
       "      <td>50</td>\n",
       "      <td>Self-emp-not-inc</td>\n",
       "      <td>Bachelors</td>\n",
       "      <td>13</td>\n",
       "      <td>Married-civ-spouse</td>\n",
       "      <td>Exec-managerial</td>\n",
       "      <td>Husband</td>\n",
       "      <td>White</td>\n",
       "      <td>Male</td>\n",
       "      <td>0</td>\n",
       "      <td>0</td>\n",
       "      <td>13</td>\n",
       "      <td>United-States</td>\n",
       "      <td>&lt;=50K</td>\n",
       "    </tr>\n",
       "    <tr>\n",
       "      <td>2</td>\n",
       "      <td>38</td>\n",
       "      <td>Private</td>\n",
       "      <td>HS-grad</td>\n",
       "      <td>9</td>\n",
       "      <td>Divorced</td>\n",
       "      <td>Handlers-cleaners</td>\n",
       "      <td>Not-in-family</td>\n",
       "      <td>White</td>\n",
       "      <td>Male</td>\n",
       "      <td>0</td>\n",
       "      <td>0</td>\n",
       "      <td>40</td>\n",
       "      <td>United-States</td>\n",
       "      <td>&lt;=50K</td>\n",
       "    </tr>\n",
       "    <tr>\n",
       "      <td>3</td>\n",
       "      <td>53</td>\n",
       "      <td>Private</td>\n",
       "      <td>11th</td>\n",
       "      <td>7</td>\n",
       "      <td>Married-civ-spouse</td>\n",
       "      <td>Handlers-cleaners</td>\n",
       "      <td>Husband</td>\n",
       "      <td>Black</td>\n",
       "      <td>Male</td>\n",
       "      <td>0</td>\n",
       "      <td>0</td>\n",
       "      <td>40</td>\n",
       "      <td>United-States</td>\n",
       "      <td>&lt;=50K</td>\n",
       "    </tr>\n",
       "    <tr>\n",
       "      <td>4</td>\n",
       "      <td>28</td>\n",
       "      <td>Private</td>\n",
       "      <td>Bachelors</td>\n",
       "      <td>13</td>\n",
       "      <td>Married-civ-spouse</td>\n",
       "      <td>Prof-specialty</td>\n",
       "      <td>Wife</td>\n",
       "      <td>Black</td>\n",
       "      <td>Female</td>\n",
       "      <td>0</td>\n",
       "      <td>0</td>\n",
       "      <td>40</td>\n",
       "      <td>Cuba</td>\n",
       "      <td>&lt;=50K</td>\n",
       "    </tr>\n",
       "  </tbody>\n",
       "</table>\n",
       "</div>"
      ],
      "text/plain": [
       "   age         workclass  education  education-num      marital-status  \\\n",
       "0   39         State-gov  Bachelors             13       Never-married   \n",
       "1   50  Self-emp-not-inc  Bachelors             13  Married-civ-spouse   \n",
       "2   38           Private    HS-grad              9            Divorced   \n",
       "3   53           Private       11th              7  Married-civ-spouse   \n",
       "4   28           Private  Bachelors             13  Married-civ-spouse   \n",
       "\n",
       "          occupation   relationship   race     sex  capital-gain  \\\n",
       "0       Adm-clerical  Not-in-family  White    Male          2174   \n",
       "1    Exec-managerial        Husband  White    Male             0   \n",
       "2  Handlers-cleaners  Not-in-family  White    Male             0   \n",
       "3  Handlers-cleaners        Husband  Black    Male             0   \n",
       "4     Prof-specialty           Wife  Black  Female             0   \n",
       "\n",
       "   capital-loss  hours-per-week native-country salary  \n",
       "0             0              40  United-States  <=50K  \n",
       "1             0              13  United-States  <=50K  \n",
       "2             0              40  United-States  <=50K  \n",
       "3             0              40  United-States  <=50K  \n",
       "4             0              40           Cuba  <=50K  "
      ]
     },
     "execution_count": 66,
     "metadata": {},
     "output_type": "execute_result"
    }
   ],
   "source": [
    "data.head()"
   ]
  },
  {
   "cell_type": "code",
   "execution_count": 67,
   "metadata": {},
   "outputs": [
    {
     "data": {
      "text/html": [
       "<div>\n",
       "<style scoped>\n",
       "    .dataframe tbody tr th:only-of-type {\n",
       "        vertical-align: middle;\n",
       "    }\n",
       "\n",
       "    .dataframe tbody tr th {\n",
       "        vertical-align: top;\n",
       "    }\n",
       "\n",
       "    .dataframe thead th {\n",
       "        text-align: right;\n",
       "    }\n",
       "</style>\n",
       "<table border=\"1\" class=\"dataframe\">\n",
       "  <thead>\n",
       "    <tr style=\"text-align: right;\">\n",
       "      <th></th>\n",
       "      <th>age</th>\n",
       "      <th>workclass</th>\n",
       "      <th>education</th>\n",
       "      <th>education-num</th>\n",
       "      <th>marital-status</th>\n",
       "      <th>occupation</th>\n",
       "      <th>relationship</th>\n",
       "      <th>race</th>\n",
       "      <th>sex</th>\n",
       "      <th>capital-gain</th>\n",
       "      <th>capital-loss</th>\n",
       "      <th>hours-per-week</th>\n",
       "      <th>native-country</th>\n",
       "      <th>salary</th>\n",
       "    </tr>\n",
       "  </thead>\n",
       "  <tbody>\n",
       "    <tr>\n",
       "      <td>32556</td>\n",
       "      <td>27</td>\n",
       "      <td>Private</td>\n",
       "      <td>Assoc-acdm</td>\n",
       "      <td>12</td>\n",
       "      <td>Married-civ-spouse</td>\n",
       "      <td>Tech-support</td>\n",
       "      <td>Wife</td>\n",
       "      <td>White</td>\n",
       "      <td>Female</td>\n",
       "      <td>0</td>\n",
       "      <td>0</td>\n",
       "      <td>38</td>\n",
       "      <td>United-States</td>\n",
       "      <td>&lt;=50K</td>\n",
       "    </tr>\n",
       "    <tr>\n",
       "      <td>32557</td>\n",
       "      <td>40</td>\n",
       "      <td>Private</td>\n",
       "      <td>HS-grad</td>\n",
       "      <td>9</td>\n",
       "      <td>Married-civ-spouse</td>\n",
       "      <td>Machine-op-inspct</td>\n",
       "      <td>Husband</td>\n",
       "      <td>White</td>\n",
       "      <td>Male</td>\n",
       "      <td>0</td>\n",
       "      <td>0</td>\n",
       "      <td>40</td>\n",
       "      <td>United-States</td>\n",
       "      <td>&gt;50K</td>\n",
       "    </tr>\n",
       "    <tr>\n",
       "      <td>32558</td>\n",
       "      <td>58</td>\n",
       "      <td>Private</td>\n",
       "      <td>HS-grad</td>\n",
       "      <td>9</td>\n",
       "      <td>Widowed</td>\n",
       "      <td>Adm-clerical</td>\n",
       "      <td>Unmarried</td>\n",
       "      <td>White</td>\n",
       "      <td>Female</td>\n",
       "      <td>0</td>\n",
       "      <td>0</td>\n",
       "      <td>40</td>\n",
       "      <td>United-States</td>\n",
       "      <td>&lt;=50K</td>\n",
       "    </tr>\n",
       "    <tr>\n",
       "      <td>32559</td>\n",
       "      <td>22</td>\n",
       "      <td>Private</td>\n",
       "      <td>HS-grad</td>\n",
       "      <td>9</td>\n",
       "      <td>Never-married</td>\n",
       "      <td>Adm-clerical</td>\n",
       "      <td>Own-child</td>\n",
       "      <td>White</td>\n",
       "      <td>Male</td>\n",
       "      <td>0</td>\n",
       "      <td>0</td>\n",
       "      <td>20</td>\n",
       "      <td>United-States</td>\n",
       "      <td>&lt;=50K</td>\n",
       "    </tr>\n",
       "    <tr>\n",
       "      <td>32560</td>\n",
       "      <td>52</td>\n",
       "      <td>Self-emp-inc</td>\n",
       "      <td>HS-grad</td>\n",
       "      <td>9</td>\n",
       "      <td>Married-civ-spouse</td>\n",
       "      <td>Exec-managerial</td>\n",
       "      <td>Wife</td>\n",
       "      <td>White</td>\n",
       "      <td>Female</td>\n",
       "      <td>15024</td>\n",
       "      <td>0</td>\n",
       "      <td>40</td>\n",
       "      <td>United-States</td>\n",
       "      <td>&gt;50K</td>\n",
       "    </tr>\n",
       "  </tbody>\n",
       "</table>\n",
       "</div>"
      ],
      "text/plain": [
       "       age     workclass   education  education-num      marital-status  \\\n",
       "32556   27       Private  Assoc-acdm             12  Married-civ-spouse   \n",
       "32557   40       Private     HS-grad              9  Married-civ-spouse   \n",
       "32558   58       Private     HS-grad              9             Widowed   \n",
       "32559   22       Private     HS-grad              9       Never-married   \n",
       "32560   52  Self-emp-inc     HS-grad              9  Married-civ-spouse   \n",
       "\n",
       "              occupation relationship   race     sex  capital-gain  \\\n",
       "32556       Tech-support         Wife  White  Female             0   \n",
       "32557  Machine-op-inspct      Husband  White    Male             0   \n",
       "32558       Adm-clerical    Unmarried  White  Female             0   \n",
       "32559       Adm-clerical    Own-child  White    Male             0   \n",
       "32560    Exec-managerial         Wife  White  Female         15024   \n",
       "\n",
       "       capital-loss  hours-per-week native-country salary  \n",
       "32556             0              38  United-States  <=50K  \n",
       "32557             0              40  United-States   >50K  \n",
       "32558             0              40  United-States  <=50K  \n",
       "32559             0              20  United-States  <=50K  \n",
       "32560             0              40  United-States   >50K  "
      ]
     },
     "execution_count": 67,
     "metadata": {},
     "output_type": "execute_result"
    }
   ],
   "source": [
    "data.tail()"
   ]
  },
  {
   "cell_type": "code",
   "execution_count": 68,
   "metadata": {},
   "outputs": [
    {
     "name": "stdout",
     "output_type": "stream",
     "text": [
      "<class 'pandas.core.frame.DataFrame'>\n",
      "RangeIndex: 32561 entries, 0 to 32560\n",
      "Data columns (total 14 columns):\n",
      "age               32561 non-null int64\n",
      "workclass         32561 non-null object\n",
      "education         32561 non-null object\n",
      "education-num     32561 non-null int64\n",
      "marital-status    32561 non-null object\n",
      "occupation        32561 non-null object\n",
      "relationship      32561 non-null object\n",
      "race              32561 non-null object\n",
      "sex               32561 non-null object\n",
      "capital-gain      32561 non-null int64\n",
      "capital-loss      32561 non-null int64\n",
      "hours-per-week    32561 non-null int64\n",
      "native-country    32561 non-null object\n",
      "salary            32561 non-null object\n",
      "dtypes: int64(5), object(9)\n",
      "memory usage: 3.5+ MB\n"
     ]
    }
   ],
   "source": [
    "data.info()"
   ]
  },
  {
   "cell_type": "code",
   "execution_count": 69,
   "metadata": {},
   "outputs": [
    {
     "data": {
      "text/html": [
       "<div>\n",
       "<style scoped>\n",
       "    .dataframe tbody tr th:only-of-type {\n",
       "        vertical-align: middle;\n",
       "    }\n",
       "\n",
       "    .dataframe tbody tr th {\n",
       "        vertical-align: top;\n",
       "    }\n",
       "\n",
       "    .dataframe thead th {\n",
       "        text-align: right;\n",
       "    }\n",
       "</style>\n",
       "<table border=\"1\" class=\"dataframe\">\n",
       "  <thead>\n",
       "    <tr style=\"text-align: right;\">\n",
       "      <th></th>\n",
       "      <th>age</th>\n",
       "      <th>education-num</th>\n",
       "      <th>capital-gain</th>\n",
       "      <th>capital-loss</th>\n",
       "      <th>hours-per-week</th>\n",
       "    </tr>\n",
       "  </thead>\n",
       "  <tbody>\n",
       "    <tr>\n",
       "      <td>count</td>\n",
       "      <td>32561.000000</td>\n",
       "      <td>32561.000000</td>\n",
       "      <td>32561.000000</td>\n",
       "      <td>32561.000000</td>\n",
       "      <td>32561.000000</td>\n",
       "    </tr>\n",
       "    <tr>\n",
       "      <td>mean</td>\n",
       "      <td>38.581647</td>\n",
       "      <td>10.080679</td>\n",
       "      <td>1077.648844</td>\n",
       "      <td>87.303830</td>\n",
       "      <td>40.437456</td>\n",
       "    </tr>\n",
       "    <tr>\n",
       "      <td>std</td>\n",
       "      <td>13.640433</td>\n",
       "      <td>2.572720</td>\n",
       "      <td>7385.292085</td>\n",
       "      <td>402.960219</td>\n",
       "      <td>12.347429</td>\n",
       "    </tr>\n",
       "    <tr>\n",
       "      <td>min</td>\n",
       "      <td>17.000000</td>\n",
       "      <td>1.000000</td>\n",
       "      <td>0.000000</td>\n",
       "      <td>0.000000</td>\n",
       "      <td>1.000000</td>\n",
       "    </tr>\n",
       "    <tr>\n",
       "      <td>25%</td>\n",
       "      <td>28.000000</td>\n",
       "      <td>9.000000</td>\n",
       "      <td>0.000000</td>\n",
       "      <td>0.000000</td>\n",
       "      <td>40.000000</td>\n",
       "    </tr>\n",
       "    <tr>\n",
       "      <td>50%</td>\n",
       "      <td>37.000000</td>\n",
       "      <td>10.000000</td>\n",
       "      <td>0.000000</td>\n",
       "      <td>0.000000</td>\n",
       "      <td>40.000000</td>\n",
       "    </tr>\n",
       "    <tr>\n",
       "      <td>75%</td>\n",
       "      <td>48.000000</td>\n",
       "      <td>12.000000</td>\n",
       "      <td>0.000000</td>\n",
       "      <td>0.000000</td>\n",
       "      <td>45.000000</td>\n",
       "    </tr>\n",
       "    <tr>\n",
       "      <td>max</td>\n",
       "      <td>90.000000</td>\n",
       "      <td>16.000000</td>\n",
       "      <td>99999.000000</td>\n",
       "      <td>4356.000000</td>\n",
       "      <td>99.000000</td>\n",
       "    </tr>\n",
       "  </tbody>\n",
       "</table>\n",
       "</div>"
      ],
      "text/plain": [
       "                age  education-num  capital-gain  capital-loss  hours-per-week\n",
       "count  32561.000000   32561.000000  32561.000000  32561.000000    32561.000000\n",
       "mean      38.581647      10.080679   1077.648844     87.303830       40.437456\n",
       "std       13.640433       2.572720   7385.292085    402.960219       12.347429\n",
       "min       17.000000       1.000000      0.000000      0.000000        1.000000\n",
       "25%       28.000000       9.000000      0.000000      0.000000       40.000000\n",
       "50%       37.000000      10.000000      0.000000      0.000000       40.000000\n",
       "75%       48.000000      12.000000      0.000000      0.000000       45.000000\n",
       "max       90.000000      16.000000  99999.000000   4356.000000       99.000000"
      ]
     },
     "execution_count": 69,
     "metadata": {},
     "output_type": "execute_result"
    }
   ],
   "source": [
    "data.describe()"
   ]
  },
  {
   "cell_type": "code",
   "execution_count": 70,
   "metadata": {},
   "outputs": [
    {
     "data": {
      "text/plain": [
       "(32561, 14)"
      ]
     },
     "execution_count": 70,
     "metadata": {},
     "output_type": "execute_result"
    }
   ],
   "source": [
    "data.shape"
   ]
  },
  {
   "cell_type": "code",
   "execution_count": null,
   "metadata": {},
   "outputs": [],
   "source": [
    "#data cleaning"
   ]
  },
  {
   "cell_type": "code",
   "execution_count": 71,
   "metadata": {},
   "outputs": [
    {
     "data": {
      "text/plain": [
       "age               0\n",
       "workclass         0\n",
       "education         0\n",
       "education-num     0\n",
       "marital-status    0\n",
       "occupation        0\n",
       "relationship      0\n",
       "race              0\n",
       "sex               0\n",
       "capital-gain      0\n",
       "capital-loss      0\n",
       "hours-per-week    0\n",
       "native-country    0\n",
       "salary            0\n",
       "dtype: int64"
      ]
     },
     "execution_count": 71,
     "metadata": {},
     "output_type": "execute_result"
    }
   ],
   "source": [
    "data.isna().sum()"
   ]
  },
  {
   "cell_type": "code",
   "execution_count": 72,
   "metadata": {},
   "outputs": [
    {
     "data": {
      "text/plain": [
       "age                  0\n",
       "workclass         1836\n",
       "education            0\n",
       "education-num        0\n",
       "marital-status       0\n",
       "occupation        1843\n",
       "relationship         0\n",
       "race                 0\n",
       "sex                  0\n",
       "capital-gain         0\n",
       "capital-loss         0\n",
       "hours-per-week       0\n",
       "native-country     583\n",
       "salary               0\n",
       "dtype: int64"
      ]
     },
     "execution_count": 72,
     "metadata": {},
     "output_type": "execute_result"
    }
   ],
   "source": [
    "data.isin(['?']).sum(axis=0)"
   ]
  },
  {
   "cell_type": "code",
   "execution_count": 73,
   "metadata": {},
   "outputs": [],
   "source": [
    "data=pd.DataFrame(data)"
   ]
  },
  {
   "cell_type": "code",
   "execution_count": null,
   "metadata": {},
   "outputs": [],
   "source": [
    "#finding outliers"
   ]
  },
  {
   "cell_type": "code",
   "execution_count": 74,
   "metadata": {},
   "outputs": [
    {
     "data": {
      "text/plain": [
       "Text(0.5, 1.0, 'Box plot of education num')"
      ]
     },
     "execution_count": 74,
     "metadata": {},
     "output_type": "execute_result"
    },
    {
     "data": {
      "image/png": "[encoded data removed]",
      "text/plain": [
       "<Figure size 432x288 with 1 Axes>"
      ]
     },
     "metadata": {
      "needs_background": "light"
     },
     "output_type": "display_data"
    }
   ],
   "source": [
    "plt.boxplot(data['education-num'])\n",
    "plt.title(\"Box plot of education num\")"
   ]
  },
  {
   "cell_type": "code",
   "execution_count": 75,
   "metadata": {},
   "outputs": [
    {
     "data": {
      "text/plain": [
       "Text(0.5, 1.0, 'Box plot of age')"
      ]
     },
     "execution_count": 75,
     "metadata": {},
     "output_type": "execute_result"
    },
    {
     "data": {
      "image/png": "[encoded data removed]",
      "text/plain": [
       "<Figure size 432x288 with 1 Axes>"
      ]
     },
     "metadata": {
      "needs_background": "light"
     },
     "output_type": "display_data"
    }
   ],
   "source": [
    "plt.boxplot(data['age'])\n",
    "plt.title(\"Box plot of age\")"
   ]
  },
  {
   "cell_type": "code",
   "execution_count": 76,
   "metadata": {},
   "outputs": [
    {
     "name": "stdout",
     "output_type": "stream",
     "text": [
      "28.0\n",
      "37.0\n",
      "48.0\n"
     ]
    }
   ],
   "source": [
    "q1=np.percentile(data['age'],25,interpolation='midpoint')\n",
    "q2=np.percentile(data['age'],50,interpolation='midpoint')\n",
    "q3=np.percentile(data['age'],75,interpolation='midpoint')\n",
    "print(q1)\n",
    "print(q2)\n",
    "print(q3)"
   ]
  },
  {
   "cell_type": "code",
   "execution_count": 77,
   "metadata": {},
   "outputs": [
    {
     "name": "stdout",
     "output_type": "stream",
     "text": [
      "-2.0\n",
      "78.0\n"
     ]
    }
   ],
   "source": [
    "iqr=q3-q1\n",
    "l_lim=q1-1.5*iqr\n",
    "u_lim=q3+1.5*iqr\n",
    "print(l_lim)\n",
    "print(u_lim)"
   ]
  },
  {
   "cell_type": "code",
   "execution_count": 78,
   "metadata": {},
   "outputs": [
    {
     "data": {
      "text/plain": [
       "[79,\n",
       " 90,\n",
       " 80,\n",
       " 81,\n",
       " 90,\n",
       " 88,\n",
       " 90,\n",
       " 90,\n",
       " 80,\n",
       " 90,\n",
       " 81,\n",
       " 82,\n",
       " 79,\n",
       " 81,\n",
       " 80,\n",
       " 83,\n",
       " 90,\n",
       " 90,\n",
       " 79,\n",
       " 81,\n",
       " 90,\n",
       " 90,\n",
       " 80,\n",
       " 90,\n",
       " 90,\n",
       " 79,\n",
       " 79,\n",
       " 84,\n",
       " 90,\n",
       " 80,\n",
       " 90,\n",
       " 81,\n",
       " 83,\n",
       " 84,\n",
       " 81,\n",
       " 79,\n",
       " 85,\n",
       " 82,\n",
       " 79,\n",
       " 80,\n",
       " 90,\n",
       " 90,\n",
       " 90,\n",
       " 84,\n",
       " 80,\n",
       " 90,\n",
       " 90,\n",
       " 79,\n",
       " 84,\n",
       " 90,\n",
       " 79,\n",
       " 90,\n",
       " 90,\n",
       " 90,\n",
       " 82,\n",
       " 81,\n",
       " 90,\n",
       " 84,\n",
       " 79,\n",
       " 81,\n",
       " 82,\n",
       " 81,\n",
       " 80,\n",
       " 90,\n",
       " 80,\n",
       " 84,\n",
       " 82,\n",
       " 79,\n",
       " 90,\n",
       " 84,\n",
       " 90,\n",
       " 83,\n",
       " 79,\n",
       " 81,\n",
       " 80,\n",
       " 79,\n",
       " 80,\n",
       " 79,\n",
       " 80,\n",
       " 90,\n",
       " 90,\n",
       " 80,\n",
       " 90,\n",
       " 90,\n",
       " 81,\n",
       " 83,\n",
       " 82,\n",
       " 90,\n",
       " 90,\n",
       " 81,\n",
       " 80,\n",
       " 80,\n",
       " 90,\n",
       " 79,\n",
       " 80,\n",
       " 82,\n",
       " 85,\n",
       " 80,\n",
       " 79,\n",
       " 90,\n",
       " 81,\n",
       " 79,\n",
       " 80,\n",
       " 79,\n",
       " 81,\n",
       " 82,\n",
       " 88,\n",
       " 90,\n",
       " 82,\n",
       " 88,\n",
       " 84,\n",
       " 83,\n",
       " 79,\n",
       " 86,\n",
       " 90,\n",
       " 90,\n",
       " 82,\n",
       " 83,\n",
       " 81,\n",
       " 79,\n",
       " 90,\n",
       " 80,\n",
       " 81,\n",
       " 79,\n",
       " 84,\n",
       " 84,\n",
       " 79,\n",
       " 90,\n",
       " 80,\n",
       " 81,\n",
       " 81,\n",
       " 81,\n",
       " 90,\n",
       " 87,\n",
       " 90,\n",
       " 80,\n",
       " 80,\n",
       " 82,\n",
       " 90,\n",
       " 90,\n",
       " 85,\n",
       " 82,\n",
       " 81]"
      ]
     },
     "execution_count": 78,
     "metadata": {},
     "output_type": "execute_result"
    }
   ],
   "source": [
    "outlier=[]\n",
    "for x in data['age']:\n",
    " if((x>u_lim)or(x<l_lim)):\n",
    "        outlier.append(x)\n",
    "outlier"
   ]
  },
  {
   "cell_type": "code",
   "execution_count": 79,
   "metadata": {},
   "outputs": [],
   "source": [
    "Ind1 = data['age']>u_lim\n",
    "location=data.loc[Ind1].index"
   ]
  },
  {
   "cell_type": "code",
   "execution_count": 80,
   "metadata": {},
   "outputs": [],
   "source": [
    "data.drop(location,inplace=True)"
   ]
  },
  {
   "cell_type": "code",
   "execution_count": 81,
   "metadata": {},
   "outputs": [
    {
     "data": {
      "text/plain": [
       "Text(0.5, 1.0, 'Box plot of age')"
      ]
     },
     "execution_count": 81,
     "metadata": {},
     "output_type": "execute_result"
    },
    {
     "data": {
      "image/png": "[encoded data removed]",
      "text/plain": [
       "<Figure size 432x288 with 1 Axes>"
      ]
     },
     "metadata": {
      "needs_background": "light"
     },
     "output_type": "display_data"
    }
   ],
   "source": [
    "plt.boxplot(data['age'])\n",
    "plt.title(\"Box plot of age\")"
   ]
  },
  {
   "cell_type": "code",
   "execution_count": 82,
   "metadata": {},
   "outputs": [
    {
     "data": {
      "text/plain": [
       "Text(0.5, 1.0, 'Box plot of capital gain')"
      ]
     },
     "execution_count": 82,
     "metadata": {},
     "output_type": "execute_result"
    },
    {
     "data": {
      "image/png": "[encoded data removed]",
      "text/plain": [
       "<Figure size 432x288 with 1 Axes>"
      ]
     },
     "metadata": {
      "needs_background": "light"
     },
     "output_type": "display_data"
    }
   ],
   "source": [
    "plt.boxplot(data['capital-gain'])\n",
    "plt.title(\"Box plot of capital gain\")"
   ]
  },
  {
   "cell_type": "code",
   "execution_count": 83,
   "metadata": {},
   "outputs": [
    {
     "data": {
      "text/plain": [
       "Text(0.5, 1.0, 'Box plot of capital loss')"
      ]
     },
     "execution_count": 83,
     "metadata": {},
     "output_type": "execute_result"
    },
    {
     "data": {
      "image/png": "[encoded data removed]",
      "text/plain": [
       "<Figure size 432x288 with 1 Axes>"
      ]
     },
     "metadata": {
      "needs_background": "light"
     },
     "output_type": "display_data"
    }
   ],
   "source": [
    "plt.boxplot(data['capital-loss'])\n",
    "plt.title(\"Box plot of capital loss\")"
   ]
  },
  {
   "cell_type": "code",
   "execution_count": 84,
   "metadata": {},
   "outputs": [
    {
     "data": {
      "text/plain": [
       "Text(0.5, 1.0, 'Box plot of hours per week')"
      ]
     },
     "execution_count": 84,
     "metadata": {},
     "output_type": "execute_result"
    },
    {
     "data": {
      "image/png": "[encoded data removed]",
      "text/plain": [
       "<Figure size 432x288 with 1 Axes>"
      ]
     },
     "metadata": {
      "needs_background": "light"
     },
     "output_type": "display_data"
    }
   ],
   "source": [
    "plt.boxplot(data['hours-per-week'])\n",
    "plt.title(\"Box plot of hours per week\")"
   ]
  },
  {
   "cell_type": "code",
   "execution_count": 85,
   "metadata": {},
   "outputs": [
    {
     "name": "stdout",
     "output_type": "stream",
     "text": [
      "40.0\n",
      "40.0\n",
      "45.0\n"
     ]
    }
   ],
   "source": [
    "q1=np.percentile(data['hours-per-week'],25,interpolation='midpoint')\n",
    "q2=np.percentile(data['hours-per-week'],50,interpolation='midpoint')\n",
    "q3=np.percentile(data['hours-per-week'],75,interpolation='midpoint')\n",
    "print(q1)\n",
    "print(q2)\n",
    "print(q3)"
   ]
  },
  {
   "cell_type": "code",
   "execution_count": 86,
   "metadata": {},
   "outputs": [
    {
     "name": "stdout",
     "output_type": "stream",
     "text": [
      "32.5\n",
      "52.5\n"
     ]
    }
   ],
   "source": [
    "iqr=q3-q1\n",
    "l_lim=q1-1.5*iqr\n",
    "u_lim=q3+1.5*iqr\n",
    "print(l_lim)\n",
    "print(u_lim)"
   ]
  },
  {
   "cell_type": "code",
   "execution_count": 87,
   "metadata": {},
   "outputs": [
    {
     "data": {
      "text/plain": [
       "[13,\n",
       " 16,\n",
       " 80,\n",
       " 30,\n",
       " 60,\n",
       " 20,\n",
       " 60,\n",
       " 80,\n",
       " 15,\n",
       " 25,\n",
       " 30,\n",
       " 60,\n",
       " 55,\n",
       " 60,\n",
       " 58,\n",
       " 32,\n",
       " 70,\n",
       " 2,\n",
       " 22,\n",
       " 30,\n",
       " 25,\n",
       " 60,\n",
       " 60,\n",
       " 32,\n",
       " 25,\n",
       " 56,\n",
       " 60,\n",
       " 28,\n",
       " 60,\n",
       " 60,\n",
       " 20,\n",
       " 30,\n",
       " 30,\n",
       " 24,\n",
       " 24,\n",
       " 2,\n",
       " 60,\n",
       " 20,\n",
       " 16,\n",
       " 20,\n",
       " 25,\n",
       " 12,\n",
       " 65,\n",
       " 1,\n",
       " 28,\n",
       " 24,\n",
       " 55,\n",
       " 60,\n",
       " 12,\n",
       " 60,\n",
       " 55,\n",
       " 20,\n",
       " 10,\n",
       " 20,\n",
       " 55,\n",
       " 70,\n",
       " 20,\n",
       " 20,\n",
       " 60,\n",
       " 30,\n",
       " 20,\n",
       " 30,\n",
       " 60,\n",
       " 12,\n",
       " 75,\n",
       " 24,\n",
       " 24,\n",
       " 98,\n",
       " 15,\n",
       " 60,\n",
       " 56,\n",
       " 16,\n",
       " 60,\n",
       " 80,\n",
       " 25,\n",
       " 54,\n",
       " 25,\n",
       " 15,\n",
       " 24,\n",
       " 10,\n",
       " 15,\n",
       " 55,\n",
       " 60,\n",
       " 30,\n",
       " 20,\n",
       " 8,\n",
       " 25,\n",
       " 25,\n",
       " 30,\n",
       " 24,\n",
       " 55,\n",
       " 15,\n",
       " 15,\n",
       " 10,\n",
       " 10,\n",
       " 30,\n",
       " 25,\n",
       " 6,\n",
       " 16,\n",
       " 55,\n",
       " 64,\n",
       " 65,\n",
       " 25,\n",
       " 24,\n",
       " 60,\n",
       " 19,\n",
       " 30,\n",
       " 18,\n",
       " 60,\n",
       " 72,\n",
       " 25,\n",
       " 60,\n",
       " 28,\n",
       " 5,\n",
       " 55,\n",
       " 60,\n",
       " 20,\n",
       " 60,\n",
       " 16,\n",
       " 60,\n",
       " 24,\n",
       " 6,\n",
       " 30,\n",
       " 20,\n",
       " 20,\n",
       " 20,\n",
       " 60,\n",
       " 60,\n",
       " 25,\n",
       " 20,\n",
       " 20,\n",
       " 8,\n",
       " 30,\n",
       " 20,\n",
       " 24,\n",
       " 80,\n",
       " 58,\n",
       " 9,\n",
       " 30,\n",
       " 8,\n",
       " 20,\n",
       " 32,\n",
       " 55,\n",
       " 60,\n",
       " 12,\n",
       " 70,\n",
       " 25,\n",
       " 30,\n",
       " 24,\n",
       " 60,\n",
       " 80,\n",
       " 25,\n",
       " 28,\n",
       " 21,\n",
       " 60,\n",
       " 20,\n",
       " 60,\n",
       " 32,\n",
       " 55,\n",
       " 20,\n",
       " 20,\n",
       " 24,\n",
       " 55,\n",
       " 60,\n",
       " 64,\n",
       " 26,\n",
       " 60,\n",
       " 60,\n",
       " 14,\n",
       " 60,\n",
       " 60,\n",
       " 55,\n",
       " 15,\n",
       " 20,\n",
       " 32,\n",
       " 15,\n",
       " 60,\n",
       " 25,\n",
       " 20,\n",
       " 10,\n",
       " 16,\n",
       " 5,\n",
       " 4,\n",
       " 55,\n",
       " 30,\n",
       " 20,\n",
       " 20,\n",
       " 60,\n",
       " 20,\n",
       " 30,\n",
       " 65,\n",
       " 25,\n",
       " 15,\n",
       " 60,\n",
       " 20,\n",
       " 59,\n",
       " 24,\n",
       " 15,\n",
       " 20,\n",
       " 25,\n",
       " 72,\n",
       " 20,\n",
       " 20,\n",
       " 18,\n",
       " 70,\n",
       " 55,\n",
       " 30,\n",
       " 32,\n",
       " 55,\n",
       " 24,\n",
       " 56,\n",
       " 60,\n",
       " 55,\n",
       " 30,\n",
       " 16,\n",
       " 60,\n",
       " 20,\n",
       " 30,\n",
       " 20,\n",
       " 20,\n",
       " 30,\n",
       " 20,\n",
       " 75,\n",
       " 60,\n",
       " 60,\n",
       " 24,\n",
       " 25,\n",
       " 15,\n",
       " 24,\n",
       " 6,\n",
       " 20,\n",
       " 18,\n",
       " 55,\n",
       " 56,\n",
       " 20,\n",
       " 70,\n",
       " 15,\n",
       " 28,\n",
       " 25,\n",
       " 60,\n",
       " 7,\n",
       " 30,\n",
       " 70,\n",
       " 60,\n",
       " 15,\n",
       " 28,\n",
       " 60,\n",
       " 30,\n",
       " 65,\n",
       " 55,\n",
       " 55,\n",
       " 20,\n",
       " 15,\n",
       " 10,\n",
       " 30,\n",
       " 60,\n",
       " 20,\n",
       " 25,\n",
       " 5,\n",
       " 60,\n",
       " 55,\n",
       " 10,\n",
       " 99,\n",
       " 25,\n",
       " 30,\n",
       " 20,\n",
       " 30,\n",
       " 70,\n",
       " 70,\n",
       " 20,\n",
       " 60,\n",
       " 20,\n",
       " 20,\n",
       " 70,\n",
       " 20,\n",
       " 30,\n",
       " 55,\n",
       " 58,\n",
       " 65,\n",
       " 60,\n",
       " 16,\n",
       " 25,\n",
       " 32,\n",
       " 30,\n",
       " 30,\n",
       " 55,\n",
       " 20,\n",
       " 2,\n",
       " 1,\n",
       " 75,\n",
       " 30,\n",
       " 8,\n",
       " 60,\n",
       " 55,\n",
       " 20,\n",
       " 55,\n",
       " 75,\n",
       " 32,\n",
       " 80,\n",
       " 80,\n",
       " 60,\n",
       " 20,\n",
       " 15,\n",
       " 20,\n",
       " 60,\n",
       " 28,\n",
       " 60,\n",
       " 20,\n",
       " 25,\n",
       " 8,\n",
       " 60,\n",
       " 25,\n",
       " 25,\n",
       " 55,\n",
       " 70,\n",
       " 60,\n",
       " 53,\n",
       " 20,\n",
       " 60,\n",
       " 60,\n",
       " 30,\n",
       " 54,\n",
       " 54,\n",
       " 28,\n",
       " 60,\n",
       " 20,\n",
       " 8,\n",
       " 99,\n",
       " 30,\n",
       " 30,\n",
       " 30,\n",
       " 65,\n",
       " 60,\n",
       " 25,\n",
       " 60,\n",
       " 55,\n",
       " 80,\n",
       " 30,\n",
       " 60,\n",
       " 62,\n",
       " 20,\n",
       " 16,\n",
       " 72,\n",
       " 60,\n",
       " 60,\n",
       " 30,\n",
       " 24,\n",
       " 30,\n",
       " 25,\n",
       " 59,\n",
       " 12,\n",
       " 20,\n",
       " 60,\n",
       " 60,\n",
       " 1,\n",
       " 80,\n",
       " 7,\n",
       " 10,\n",
       " 30,\n",
       " 65,\n",
       " 57,\n",
       " 60,\n",
       " 25,\n",
       " 55,\n",
       " 30,\n",
       " 24,\n",
       " 20,\n",
       " 20,\n",
       " 60,\n",
       " 16,\n",
       " 16,\n",
       " 30,\n",
       " 60,\n",
       " 60,\n",
       " 55,\n",
       " 24,\n",
       " 6,\n",
       " 30,\n",
       " 55,\n",
       " 60,\n",
       " 70,\n",
       " 5,\n",
       " 30,\n",
       " 60,\n",
       " 25,\n",
       " 32,\n",
       " 78,\n",
       " 60,\n",
       " 20,\n",
       " 90,\n",
       " 15,\n",
       " 60,\n",
       " 16,\n",
       " 60,\n",
       " 66,\n",
       " 30,\n",
       " 60,\n",
       " 2,\n",
       " 60,\n",
       " 75,\n",
       " 60,\n",
       " 5,\n",
       " 11,\n",
       " 24,\n",
       " 25,\n",
       " 25,\n",
       " 60,\n",
       " 65,\n",
       " 55,\n",
       " 80,\n",
       " 55,\n",
       " 14,\n",
       " 65,\n",
       " 58,\n",
       " 30,\n",
       " 9,\n",
       " 55,\n",
       " 15,\n",
       " 12,\n",
       " 30,\n",
       " 70,\n",
       " 30,\n",
       " 24,\n",
       " 30,\n",
       " 65,\n",
       " 8,\n",
       " 6,\n",
       " 16,\n",
       " 16,\n",
       " 30,\n",
       " 8,\n",
       " 20,\n",
       " 16,\n",
       " 10,\n",
       " 60,\n",
       " 60,\n",
       " 60,\n",
       " 20,\n",
       " 30,\n",
       " 30,\n",
       " 60,\n",
       " 70,\n",
       " 60,\n",
       " 21,\n",
       " 70,\n",
       " 24,\n",
       " 60,\n",
       " 10,\n",
       " 20,\n",
       " 55,\n",
       " 20,\n",
       " 30,\n",
       " 16,\n",
       " 18,\n",
       " 60,\n",
       " 60,\n",
       " 20,\n",
       " 12,\n",
       " 60,\n",
       " 60,\n",
       " 80,\n",
       " 20,\n",
       " 60,\n",
       " 15,\n",
       " 15,\n",
       " 70,\n",
       " 30,\n",
       " 90,\n",
       " 16,\n",
       " 72,\n",
       " 32,\n",
       " 30,\n",
       " 60,\n",
       " 55,\n",
       " 60,\n",
       " 60,\n",
       " 70,\n",
       " 10,\n",
       " 20,\n",
       " 20,\n",
       " 20,\n",
       " 30,\n",
       " 10,\n",
       " 60,\n",
       " 56,\n",
       " 84,\n",
       " 30,\n",
       " 55,\n",
       " 10,\n",
       " 24,\n",
       " 30,\n",
       " 30,\n",
       " 60,\n",
       " 8,\n",
       " 24,\n",
       " 54,\n",
       " 15,\n",
       " 20,\n",
       " 25,\n",
       " 65,\n",
       " 10,\n",
       " 60,\n",
       " 99,\n",
       " 15,\n",
       " 16,\n",
       " 55,\n",
       " 55,\n",
       " 60,\n",
       " 70,\n",
       " 18,\n",
       " 55,\n",
       " 80,\n",
       " 25,\n",
       " 60,\n",
       " 25,\n",
       " 6,\n",
       " 20,\n",
       " 30,\n",
       " 55,\n",
       " 20,\n",
       " 3,\n",
       " 70,\n",
       " 60,\n",
       " 55,\n",
       " 30,\n",
       " 70,\n",
       " 20,\n",
       " 80,\n",
       " 60,\n",
       " 10,\n",
       " 16,\n",
       " 60,\n",
       " 70,\n",
       " 10,\n",
       " 30,\n",
       " 20,\n",
       " 20,\n",
       " 30,\n",
       " 32,\n",
       " 30,\n",
       " 60,\n",
       " 17,\n",
       " 60,\n",
       " 16,\n",
       " 4,\n",
       " 55,\n",
       " 60,\n",
       " 10,\n",
       " 55,\n",
       " 30,\n",
       " 5,\n",
       " 53,\n",
       " 16,\n",
       " 15,\n",
       " 70,\n",
       " 60,\n",
       " 25,\n",
       " 28,\n",
       " 55,\n",
       " 30,\n",
       " 70,\n",
       " 65,\n",
       " 55,\n",
       " 17,\n",
       " 55,\n",
       " 8,\n",
       " 15,\n",
       " 30,\n",
       " 5,\n",
       " 75,\n",
       " 68,\n",
       " 65,\n",
       " 30,\n",
       " 18,\n",
       " 70,\n",
       " 60,\n",
       " 60,\n",
       " 12,\n",
       " 60,\n",
       " 30,\n",
       " 30,\n",
       " 8,\n",
       " 22,\n",
       " 55,\n",
       " 18,\n",
       " 55,\n",
       " 25,\n",
       " 60,\n",
       " 21,\n",
       " 10,\n",
       " 10,\n",
       " 70,\n",
       " 20,\n",
       " 27,\n",
       " 55,\n",
       " 25,\n",
       " 24,\n",
       " 15,\n",
       " 15,\n",
       " 20,\n",
       " 60,\n",
       " 60,\n",
       " 60,\n",
       " 20,\n",
       " 60,\n",
       " 60,\n",
       " 55,\n",
       " 20,\n",
       " 60,\n",
       " 90,\n",
       " 65,\n",
       " 20,\n",
       " 25,\n",
       " 25,\n",
       " 25,\n",
       " 60,\n",
       " 30,\n",
       " 30,\n",
       " 25,\n",
       " 3,\n",
       " 70,\n",
       " 60,\n",
       " 30,\n",
       " 10,\n",
       " 30,\n",
       " 65,\n",
       " 55,\n",
       " 54,\n",
       " 30,\n",
       " 25,\n",
       " 65,\n",
       " 25,\n",
       " 30,\n",
       " 60,\n",
       " 84,\n",
       " 25,\n",
       " 24,\n",
       " 20,\n",
       " 3,\n",
       " 25,\n",
       " 25,\n",
       " 30,\n",
       " 20,\n",
       " 8,\n",
       " 55,\n",
       " 54,\n",
       " 60,\n",
       " 30,\n",
       " 10,\n",
       " 5,\n",
       " 8,\n",
       " 20,\n",
       " 25,\n",
       " 60,\n",
       " 60,\n",
       " 55,\n",
       " 25,\n",
       " 6,\n",
       " 60,\n",
       " 60,\n",
       " 30,\n",
       " 56,\n",
       " 25,\n",
       " 25,\n",
       " 65,\n",
       " 8,\n",
       " 70,\n",
       " 60,\n",
       " 21,\n",
       " 15,\n",
       " 20,\n",
       " 20,\n",
       " 30,\n",
       " 13,\n",
       " 65,\n",
       " 30,\n",
       " 65,\n",
       " 25,\n",
       " 60,\n",
       " 20,\n",
       " 3,\n",
       " 24,\n",
       " 55,\n",
       " 27,\n",
       " 55,\n",
       " 25,\n",
       " 30,\n",
       " 20,\n",
       " 20,\n",
       " 60,\n",
       " 70,\n",
       " 60,\n",
       " 20,\n",
       " 60,\n",
       " 30,\n",
       " 15,\n",
       " 25,\n",
       " 55,\n",
       " 24,\n",
       " 60,\n",
       " 56,\n",
       " 70,\n",
       " 75,\n",
       " 25,\n",
       " 24,\n",
       " 28,\n",
       " 15,\n",
       " 58,\n",
       " 5,\n",
       " 70,\n",
       " 55,\n",
       " 15,\n",
       " 20,\n",
       " 25,\n",
       " 30,\n",
       " 20,\n",
       " 55,\n",
       " 25,\n",
       " 20,\n",
       " 30,\n",
       " 32,\n",
       " 10,\n",
       " 55,\n",
       " 11,\n",
       " 20,\n",
       " 65,\n",
       " 60,\n",
       " 25,\n",
       " 84,\n",
       " 30,\n",
       " 55,\n",
       " 18,\n",
       " 60,\n",
       " 70,\n",
       " 60,\n",
       " 60,\n",
       " 30,\n",
       " 60,\n",
       " 55,\n",
       " 60,\n",
       " 25,\n",
       " 60,\n",
       " 20,\n",
       " 10,\n",
       " 30,\n",
       " 30,\n",
       " 20,\n",
       " 20,\n",
       " 24,\n",
       " 30,\n",
       " 30,\n",
       " 55,\n",
       " 60,\n",
       " 55,\n",
       " 60,\n",
       " 20,\n",
       " 15,\n",
       " 60,\n",
       " 60,\n",
       " 20,\n",
       " 30,\n",
       " 58,\n",
       " 55,\n",
       " 25,\n",
       " 30,\n",
       " 60,\n",
       " 10,\n",
       " 16,\n",
       " 27,\n",
       " 30,\n",
       " 75,\n",
       " 8,\n",
       " 30,\n",
       " 60,\n",
       " 98,\n",
       " 60,\n",
       " 70,\n",
       " 5,\n",
       " 2,\n",
       " 25,\n",
       " 20,\n",
       " 16,\n",
       " 10,\n",
       " 55,\n",
       " 22,\n",
       " 30,\n",
       " 80,\n",
       " 10,\n",
       " 85,\n",
       " 20,\n",
       " 56,\n",
       " 30,\n",
       " 30,\n",
       " 30,\n",
       " 25,\n",
       " 60,\n",
       " 30,\n",
       " 32,\n",
       " 30,\n",
       " 8,\n",
       " 60,\n",
       " 25,\n",
       " 30,\n",
       " 60,\n",
       " 65,\n",
       " 32,\n",
       " 60,\n",
       " 75,\n",
       " 25,\n",
       " 60,\n",
       " 60,\n",
       " 6,\n",
       " 55,\n",
       " 60,\n",
       " 9,\n",
       " 15,\n",
       " 56,\n",
       " 30,\n",
       " 30,\n",
       " 55,\n",
       " 56,\n",
       " 60,\n",
       " 20,\n",
       " 15,\n",
       " 30,\n",
       " 30,\n",
       " 60,\n",
       " 15,\n",
       " 60,\n",
       " 30,\n",
       " 10,\n",
       " 56,\n",
       " 25,\n",
       " 84,\n",
       " 70,\n",
       " 65,\n",
       " 20,\n",
       " 20,\n",
       " 56,\n",
       " 30,\n",
       " 55,\n",
       " 60,\n",
       " 20,\n",
       " 55,\n",
       " 30,\n",
       " 65,\n",
       " 15,\n",
       " 25,\n",
       " 70,\n",
       " 60,\n",
       " 60,\n",
       " 60,\n",
       " 30,\n",
       " 60,\n",
       " 60,\n",
       " 30,\n",
       " 65,\n",
       " 18,\n",
       " 55,\n",
       " 17,\n",
       " 55,\n",
       " 60,\n",
       " 70,\n",
       " 65,\n",
       " 80,\n",
       " 25,\n",
       " 55,\n",
       " 20,\n",
       " 55,\n",
       " 60,\n",
       " 30,\n",
       " 10,\n",
       " 25,\n",
       " 20,\n",
       " 25,\n",
       " 72,\n",
       " 2,\n",
       " 60,\n",
       " 28,\n",
       " 3,\n",
       " 30,\n",
       " 55,\n",
       " 30,\n",
       " 60,\n",
       " 54,\n",
       " 16,\n",
       " 60,\n",
       " 62,\n",
       " 84,\n",
       " 26,\n",
       " 25,\n",
       " 20,\n",
       " 32,\n",
       " 25,\n",
       " 70,\n",
       " 60,\n",
       " 54,\n",
       " 60,\n",
       " 20,\n",
       " 60,\n",
       " 20,\n",
       " 30,\n",
       " 60,\n",
       " 18,\n",
       " 30,\n",
       " 60,\n",
       " 25,\n",
       " 32,\n",
       " 20,\n",
       " 59,\n",
       " 60,\n",
       " 15,\n",
       " 32,\n",
       " 55,\n",
       " 12,\n",
       " 20,\n",
       " 25,\n",
       " 20,\n",
       " 55,\n",
       " 20,\n",
       " 55,\n",
       " 20,\n",
       " 60,\n",
       " 20,\n",
       " 30,\n",
       " 16,\n",
       " 15,\n",
       " 60,\n",
       " 20,\n",
       " 25,\n",
       " 65,\n",
       " 20,\n",
       " 55,\n",
       " 24,\n",
       " 28,\n",
       " 25,\n",
       " 60,\n",
       " 16,\n",
       " 60,\n",
       " 20,\n",
       " 16,\n",
       " 60,\n",
       " 32,\n",
       " 55,\n",
       " 12,\n",
       " 60,\n",
       " 20,\n",
       " 99,\n",
       " 25,\n",
       " 65,\n",
       " 32,\n",
       " 12,\n",
       " 32,\n",
       " 30,\n",
       " 20,\n",
       " 20,\n",
       " 25,\n",
       " 20,\n",
       " 16,\n",
       " 20,\n",
       " 15,\n",
       " 27,\n",
       " 56,\n",
       " 27,\n",
       " 60,\n",
       " 60,\n",
       " 20,\n",
       " 12,\n",
       " 32,\n",
       " 60,\n",
       " 60,\n",
       " 30,\n",
       " 60,\n",
       " 60,\n",
       " 75,\n",
       " 30,\n",
       " 60,\n",
       " 20,\n",
       " 30,\n",
       " 30,\n",
       " 5,\n",
       " 30,\n",
       " 60,\n",
       " 20,\n",
       " 20,\n",
       " 60,\n",
       " 20,\n",
       " 22,\n",
       " 55,\n",
       " 60,\n",
       " 5,\n",
       " 28,\n",
       " 30,\n",
       " 8,\n",
       " 30,\n",
       " 30,\n",
       " 30,\n",
       " 30,\n",
       " 80,\n",
       " 20,\n",
       " ...]"
      ]
     },
     "execution_count": 87,
     "metadata": {},
     "output_type": "execute_result"
    }
   ],
   "source": [
    "outlier=[]\n",
    "for x in data['hours-per-week']:\n",
    " if((x>u_lim)or(x<l_lim)):\n",
    "        outlier.append(x)\n",
    "outlier"
   ]
  },
  {
   "cell_type": "code",
   "execution_count": 88,
   "metadata": {},
   "outputs": [],
   "source": [
    "Ind1 = data['hours-per-week']<l_lim\n",
    "location=data.loc[Ind1].index\n",
    "data.drop(location,inplace=True)"
   ]
  },
  {
   "cell_type": "code",
   "execution_count": 89,
   "metadata": {},
   "outputs": [],
   "source": [
    "Ind1 = data['hours-per-week']>u_lim\n",
    "location=data.loc[Ind1].index\n",
    "data.drop(location,inplace=True)"
   ]
  },
  {
   "cell_type": "code",
   "execution_count": 90,
   "metadata": {},
   "outputs": [
    {
     "data": {
      "text/plain": [
       "Text(0.5, 1.0, 'Box plot of hours-per-week')"
      ]
     },
     "execution_count": 90,
     "metadata": {},
     "output_type": "execute_result"
    },
    {
     "data": {
      "image/png": "[encoded data removed]",
      "text/plain": [
       "<Figure size 432x288 with 1 Axes>"
      ]
     },
     "metadata": {
      "needs_background": "light"
     },
     "output_type": "display_data"
    }
   ],
   "source": [
    "plt.boxplot(data['hours-per-week'])\n",
    "plt.title(\"Box plot of hours-per-week\")"
   ]
  },
  {
   "cell_type": "code",
   "execution_count": null,
   "metadata": {},
   "outputs": [],
   "source": [
    "#replacing special character(?) values with nan"
   ]
  },
  {
   "cell_type": "code",
   "execution_count": 91,
   "metadata": {},
   "outputs": [],
   "source": [
    "data['native-country'] = data['native-country'].replace('?',np.nan)\n",
    "data['workclass'] = data['workclass'].replace('?',np.nan)\n",
    "data['occupation'] = data['occupation'].replace('?',np.nan)"
   ]
  },
  {
   "cell_type": "code",
   "execution_count": null,
   "metadata": {},
   "outputs": [],
   "source": [
    "#droping nan rows"
   ]
  },
  {
   "cell_type": "code",
   "execution_count": 92,
   "metadata": {},
   "outputs": [],
   "source": [
    "data.dropna(how='any',inplace=True)"
   ]
  },
  {
   "cell_type": "code",
   "execution_count": 93,
   "metadata": {},
   "outputs": [],
   "source": [
    "#data.drop(['education-num','age', 'hours-per-week', 'capital-gain','capital-loss', 'native-country'], axis=1, inplace=True)"
   ]
  },
  {
   "cell_type": "code",
   "execution_count": null,
   "metadata": {},
   "outputs": [],
   "source": [
    "#label encoding"
   ]
  },
  {
   "cell_type": "code",
   "execution_count": 94,
   "metadata": {},
   "outputs": [],
   "source": [
    "#salary\n",
    "data['salary'] = data['salary'].map({'<=50K': 0, '>50K': 1}).astype(int)"
   ]
  },
  {
   "cell_type": "code",
   "execution_count": 95,
   "metadata": {},
   "outputs": [
    {
     "data": {
      "text/plain": [
       "0        0\n",
       "2        0\n",
       "3        0\n",
       "4        0\n",
       "5        0\n",
       "        ..\n",
       "32555    0\n",
       "32556    0\n",
       "32557    1\n",
       "32558    0\n",
       "32560    1\n",
       "Name: salary, Length: 22163, dtype: int32"
      ]
     },
     "execution_count": 95,
     "metadata": {},
     "output_type": "execute_result"
    }
   ],
   "source": [
    "data['salary']"
   ]
  },
  {
   "cell_type": "code",
   "execution_count": 96,
   "metadata": {},
   "outputs": [],
   "source": [
    "#sex\n",
    "data['sex'] = data['sex'].map({'Male': 0, 'Female': 1}).astype(int)"
   ]
  },
  {
   "cell_type": "code",
   "execution_count": 97,
   "metadata": {
    "scrolled": true
   },
   "outputs": [],
   "source": [
    "#race\n",
    "data['race'] = data['race'].map({'Black': 0, 'Asian-Pac-Islander': 1,                     'Other': 2, 'White': 3, 'Amer-Indian-Eskimo': 4}).astype(int)"
   ]
  },
  {
   "cell_type": "code",
   "execution_count": 98,
   "metadata": {},
   "outputs": [],
   "source": [
    "#marital-status\n",
    "data['marital-status'] = data['marital-status'].map({'Married-spouse-absent': 0, 'Widowed': 1, 'Married-civ-spouse': 2, 'Separated': 3, \n",
    "                                   'Divorced': 4,'Never-married': 5, 'Married-AF-spouse': 6}).astype(int)"
   ]
  },
  {
   "cell_type": "code",
   "execution_count": 99,
   "metadata": {},
   "outputs": [],
   "source": [
    "#workclass\n",
    "data['workclass'] = data['workclass'].map({'Self-emp-inc': 0, 'State-gov': 1,'Federal-gov': 2, 'Without-pay': 3,\n",
    "                                       'Local-gov': 4,'Private': 5, 'Self-emp-not-inc': 6}).astype(int)"
   ]
  },
  {
   "cell_type": "code",
   "execution_count": 100,
   "metadata": {},
   "outputs": [],
   "source": [
    "#education\n",
    "data['education'] = data['education'].map({'Some-college': 0, 'Preschool': 1, '5th-6th': 2, 'HS-grad': 3, 'Masters': 4, \n",
    "                                       '12th': 5, '7th-8th': 6, 'Prof-school': 7,'1st-4th': 8, 'Assoc-acdm': 9, \n",
    "                                       'Doctorate': 10, '11th': 11,'Bachelors': 12, '10th': 13,'Assoc-voc': 14,\n",
    "                                       '9th': 15}).astype(int)"
   ]
  },
  {
   "cell_type": "code",
   "execution_count": 101,
   "metadata": {},
   "outputs": [],
   "source": [
    "#occupation\n",
    "data['occupation'] = data['occupation'].map({ 'Farming-fishing': 1, 'Tech-support': 2, 'Adm-clerical': 3, 'Handlers-cleaners': 4, \n",
    " 'Prof-specialty': 5,'Machine-op-inspct': 6, 'Exec-managerial': 7,'Priv-house-serv': 8,'Craft-repair': 9,'Sales': 10,\n",
    "                                         'Transport-moving': 11, 'Armed-Forces': 12, 'Other-service': 13,\n",
    "                                         'Protective-serv':14}).astype(int)"
   ]
  },
  {
   "cell_type": "code",
   "execution_count": 102,
   "metadata": {},
   "outputs": [],
   "source": [
    "#relationship\n",
    "data['relationship'] = data['relationship'].map({'Not-in-family': 0, 'Wife': 1, 'Other-relative': 2, 'Unmarried': 3,'Husband': 4,\n",
    "                                             'Own-child': 5}).astype(int)"
   ]
  },
  {
   "cell_type": "code",
   "execution_count": 103,
   "metadata": {},
   "outputs": [
    {
     "data": {
      "text/html": [
       "<div>\n",
       "<style scoped>\n",
       "    .dataframe tbody tr th:only-of-type {\n",
       "        vertical-align: middle;\n",
       "    }\n",
       "\n",
       "    .dataframe tbody tr th {\n",
       "        vertical-align: top;\n",
       "    }\n",
       "\n",
       "    .dataframe thead th {\n",
       "        text-align: right;\n",
       "    }\n",
       "</style>\n",
       "<table border=\"1\" class=\"dataframe\">\n",
       "  <thead>\n",
       "    <tr style=\"text-align: right;\">\n",
       "      <th></th>\n",
       "      <th>workclass</th>\n",
       "      <th>education</th>\n",
       "      <th>marital-status</th>\n",
       "      <th>occupation</th>\n",
       "      <th>relationship</th>\n",
       "      <th>race</th>\n",
       "      <th>sex</th>\n",
       "      <th>salary</th>\n",
       "    </tr>\n",
       "  </thead>\n",
       "  <tbody>\n",
       "    <tr>\n",
       "      <td>0</td>\n",
       "      <td>1</td>\n",
       "      <td>12</td>\n",
       "      <td>5</td>\n",
       "      <td>3</td>\n",
       "      <td>0</td>\n",
       "      <td>3</td>\n",
       "      <td>0</td>\n",
       "      <td>0</td>\n",
       "    </tr>\n",
       "    <tr>\n",
       "      <td>2</td>\n",
       "      <td>5</td>\n",
       "      <td>3</td>\n",
       "      <td>4</td>\n",
       "      <td>4</td>\n",
       "      <td>0</td>\n",
       "      <td>3</td>\n",
       "      <td>0</td>\n",
       "      <td>0</td>\n",
       "    </tr>\n",
       "    <tr>\n",
       "      <td>3</td>\n",
       "      <td>5</td>\n",
       "      <td>11</td>\n",
       "      <td>2</td>\n",
       "      <td>4</td>\n",
       "      <td>4</td>\n",
       "      <td>0</td>\n",
       "      <td>0</td>\n",
       "      <td>0</td>\n",
       "    </tr>\n",
       "    <tr>\n",
       "      <td>4</td>\n",
       "      <td>5</td>\n",
       "      <td>12</td>\n",
       "      <td>2</td>\n",
       "      <td>5</td>\n",
       "      <td>1</td>\n",
       "      <td>0</td>\n",
       "      <td>1</td>\n",
       "      <td>0</td>\n",
       "    </tr>\n",
       "    <tr>\n",
       "      <td>5</td>\n",
       "      <td>5</td>\n",
       "      <td>4</td>\n",
       "      <td>2</td>\n",
       "      <td>7</td>\n",
       "      <td>1</td>\n",
       "      <td>3</td>\n",
       "      <td>1</td>\n",
       "      <td>0</td>\n",
       "    </tr>\n",
       "  </tbody>\n",
       "</table>\n",
       "</div>"
      ],
      "text/plain": [
       "   workclass  education  marital-status  occupation  relationship  race  sex  \\\n",
       "0          1         12               5           3             0     3    0   \n",
       "2          5          3               4           4             0     3    0   \n",
       "3          5         11               2           4             4     0    0   \n",
       "4          5         12               2           5             1     0    1   \n",
       "5          5          4               2           7             1     3    1   \n",
       "\n",
       "   salary  \n",
       "0       0  \n",
       "2       0  \n",
       "3       0  \n",
       "4       0  \n",
       "5       0  "
      ]
     },
     "execution_count": 103,
     "metadata": {},
     "output_type": "execute_result"
    }
   ],
   "source": [
    "data.head()"
   ]
  },
  {
   "cell_type": "code",
   "execution_count": null,
   "metadata": {},
   "outputs": [],
   "source": [
    "#data visualization"
   ]
  },
  {
   "cell_type": "code",
   "execution_count": 104,
   "metadata": {},
   "outputs": [
    {
     "data": {
      "text/plain": [
       "<matplotlib.axes._subplots.AxesSubplot at 0x8037ecc488>"
      ]
     },
     "execution_count": 104,
     "metadata": {},
     "output_type": "execute_result"
    },
    {
     "data": {
      "image/png": "[encoded data removed]",
      "text/plain": [
       "<Figure size 432x288 with 1 Axes>"
      ]
     },
     "metadata": {
      "needs_background": "light"
     },
     "output_type": "display_data"
    }
   ],
   "source": [
    "data.groupby('education').salary.mean().plot(kind='bar')"
   ]
  },
  {
   "cell_type": "code",
   "execution_count": 105,
   "metadata": {},
   "outputs": [
    {
     "data": {
      "text/plain": [
       "<matplotlib.axes._subplots.AxesSubplot at 0x8037f65b48>"
      ]
     },
     "execution_count": 105,
     "metadata": {},
     "output_type": "execute_result"
    },
    {
     "data": {
      "image/png": "[encoded data removed]",
      "text/plain": [
       "<Figure size 432x288 with 1 Axes>"
      ]
     },
     "metadata": {
      "needs_background": "light"
     },
     "output_type": "display_data"
    }
   ],
   "source": [
    "data.groupby('occupation').salary.mean().plot(kind='bar')"
   ]
  },
  {
   "cell_type": "code",
   "execution_count": 106,
   "metadata": {},
   "outputs": [
    {
     "data": {
      "text/plain": [
       "<matplotlib.axes._subplots.AxesSubplot at 0x803853dc88>"
      ]
     },
     "execution_count": 106,
     "metadata": {},
     "output_type": "execute_result"
    },
    {
     "data": {
      "image/png": "[encoded data removed]",
      "text/plain": [
       "<Figure size 432x288 with 1 Axes>"
      ]
     },
     "metadata": {
      "needs_background": "light"
     },
     "output_type": "display_data"
    }
   ],
   "source": [
    "data.groupby('sex').salary.mean().plot(kind='bar')"
   ]
  },
  {
   "cell_type": "code",
   "execution_count": 107,
   "metadata": {},
   "outputs": [
    {
     "data": {
      "text/plain": [
       "<matplotlib.axes._subplots.AxesSubplot at 0x803859d088>"
      ]
     },
     "execution_count": 107,
     "metadata": {},
     "output_type": "execute_result"
    },
    {
     "data": {
      "image/png": "[encoded data removed]",
      "text/plain": [
       "<Figure size 432x288 with 1 Axes>"
      ]
     },
     "metadata": {
      "needs_background": "light"
     },
     "output_type": "display_data"
    }
   ],
   "source": [
    "data.groupby('relationship').salary.mean().plot(kind='bar')"
   ]
  },
  {
   "cell_type": "code",
   "execution_count": 108,
   "metadata": {},
   "outputs": [
    {
     "data": {
      "text/plain": [
       "<matplotlib.axes._subplots.AxesSubplot at 0x8033dfb1c8>"
      ]
     },
     "execution_count": 108,
     "metadata": {},
     "output_type": "execute_result"
    },
    {
     "data": {
      "image/png": "[encoded data removed]",
      "text/plain": [
       "<Figure size 432x288 with 1 Axes>"
      ]
     },
     "metadata": {
      "needs_background": "light"
     },
     "output_type": "display_data"
    }
   ],
   "source": [
    "data.groupby('race').salary.mean().plot(kind='bar')"
   ]
  },
  {
   "cell_type": "code",
   "execution_count": 109,
   "metadata": {},
   "outputs": [
    {
     "data": {
      "text/plain": [
       "<matplotlib.axes._subplots.AxesSubplot at 0x803964bc48>"
      ]
     },
     "execution_count": 109,
     "metadata": {},
     "output_type": "execute_result"
    },
    {
     "data": {
      "image/png": "[encoded data removed]",
      "text/plain": [
       "<Figure size 432x288 with 1 Axes>"
      ]
     },
     "metadata": {
      "needs_background": "light"
     },
     "output_type": "display_data"
    }
   ],
   "source": [
    "data.groupby('workclass').salary.mean().plot(kind='bar')"
   ]
  },
  {
   "cell_type": "code",
   "execution_count": 120,
   "metadata": {},
   "outputs": [],
   "source": [
    "x = pd.DataFrame(np.c_[data['relationship'], data['education'], data['race'],data['occupation'],data['sex'],\n",
    "                            data['marital-status'],data['workclass']], columns = ['relationship','education','race',\n",
    "                            'occupation','sex','marital-status','workclass'])\n"
   ]
  },
  {
   "cell_type": "code",
   "execution_count": 121,
   "metadata": {},
   "outputs": [],
   "source": [
    "y = pd.DataFrame(data.salary)"
   ]
  },
  {
   "cell_type": "code",
   "execution_count": 122,
   "metadata": {},
   "outputs": [],
   "source": [
    "reg = LogisticRegression()"
   ]
  },
  {
   "cell_type": "code",
   "execution_count": 123,
   "metadata": {},
   "outputs": [],
   "source": [
    "x_train, x_test, y_train, y_test = train_test_split(x,y, test_size=0.33, random_state=42)"
   ]
  },
  {
   "cell_type": "markdown",
   "metadata": {},
   "source": [
    "# Model selection"
   ]
  },
  {
   "cell_type": "markdown",
   "metadata": {},
   "source": [
    "# Logistic Regression"
   ]
  },
  {
   "cell_type": "code",
   "execution_count": null,
   "metadata": {},
   "outputs": [],
   "source": []
  },
  {
   "cell_type": "code",
   "execution_count": 127,
   "metadata": {
    "scrolled": true
   },
   "outputs": [
    {
     "name": "stderr",
     "output_type": "stream",
     "text": [
      "C:\\Users\\JUSTIN\\Anaconda5\\lib\\site-packages\\sklearn\\linear_model\\logistic.py:432: FutureWarning: Default solver will be changed to 'lbfgs' in 0.22. Specify a solver to silence this warning.\n",
      "  FutureWarning)\n",
      "C:\\Users\\JUSTIN\\Anaconda5\\lib\\site-packages\\sklearn\\utils\\validation.py:724: DataConversionWarning: A column-vector y was passed when a 1d array was expected. Please change the shape of y to (n_samples, ), for example using ravel().\n",
      "  y = column_or_1d(y, warn=True)\n"
     ]
    }
   ],
   "source": [
    "reg.fit(x_train, y_train)\n",
    "y_pred = reg.predict(x_test)"
   ]
  },
  {
   "cell_type": "code",
   "execution_count": 128,
   "metadata": {},
   "outputs": [
    {
     "name": "stdout",
     "output_type": "stream",
     "text": [
      "accuracy: 0.7413180202351655\n",
      "precision: 0.5448785638859557\n",
      "recall: 0.26100151745068284\n",
      "f1_score: 0.35294117647058826\n"
     ]
    }
   ],
   "source": [
    "from sklearn.metrics import confusion_matrix,accuracy_score,recall_score,f1_score,precision_score\n",
    "print('accuracy:',accuracy_score(y_test,y_pred))\n",
    "print('precision:',precision_score(y_test,y_pred))\n",
    "print('recall:',recall_score(y_test,y_pred))\n",
    "print(\"f1_score:\",f1_score(y_test,y_pred))"
   ]
  },
  {
   "cell_type": "code",
   "execution_count": 76,
   "metadata": {},
   "outputs": [],
   "source": []
  },
  {
   "cell_type": "code",
   "execution_count": null,
   "metadata": {},
   "outputs": [],
   "source": []
  },
  {
   "cell_type": "markdown",
   "metadata": {},
   "source": [
    "# Decision tree"
   ]
  },
  {
   "cell_type": "code",
   "execution_count": 129,
   "metadata": {},
   "outputs": [],
   "source": [
    "from sklearn.tree import DecisionTreeClassifier\n",
    "dt_model=DecisionTreeClassifier()\n",
    "dt_model.fit(x_train,y_train)\n",
    "y_pred=dt_model.predict(x_test)"
   ]
  },
  {
   "cell_type": "code",
   "execution_count": 130,
   "metadata": {},
   "outputs": [
    {
     "name": "stdout",
     "output_type": "stream",
     "text": [
      "accuracy: 0.7983319660924255\n",
      "precision: 0.6494047619047619\n",
      "recall: 0.5518462316641376\n",
      "f1_score: 0.5966639321848509\n"
     ]
    }
   ],
   "source": [
    "print('accuracy:',accuracy_score(y_test,y_pred))\n",
    "print('precision:',precision_score(y_test,y_pred))\n",
    "print('recall:',recall_score(y_test,y_pred))\n",
    "print(\"f1_score:\",f1_score(y_test,y_pred))"
   ]
  },
  {
   "cell_type": "markdown",
   "metadata": {},
   "source": [
    "# Random Forest"
   ]
  },
  {
   "cell_type": "code",
   "execution_count": 131,
   "metadata": {},
   "outputs": [
    {
     "name": "stderr",
     "output_type": "stream",
     "text": [
      "C:\\Users\\JUSTIN\\Anaconda5\\lib\\site-packages\\ipykernel_launcher.py:3: DataConversionWarning: A column-vector y was passed when a 1d array was expected. Please change the shape of y to (n_samples,), for example using ravel().\n",
      "  This is separate from the ipykernel package so we can avoid doing imports until\n"
     ]
    }
   ],
   "source": [
    "from sklearn.ensemble import RandomForestClassifier\n",
    "Classifier = RandomForestClassifier(n_estimators = 50)\n",
    "Classifier.fit(x_train,y_train)\n",
    "y_predict = Classifier.predict(x_test)\n"
   ]
  },
  {
   "cell_type": "code",
   "execution_count": 132,
   "metadata": {
    "scrolled": true
   },
   "outputs": [
    {
     "name": "stdout",
     "output_type": "stream",
     "text": [
      "accuracy: 0.7983319660924255\n",
      "precision: 0.6494047619047619\n",
      "recall: 0.5518462316641376\n",
      "f1_score: 0.5966639321848509\n"
     ]
    }
   ],
   "source": [
    "print('accuracy:',accuracy_score(y_test,y_pred))\n",
    "print('precision:',precision_score(y_test,y_pred))\n",
    "print('recall:',recall_score(y_test,y_pred))\n",
    "print(\"f1_score:\",f1_score(y_test,y_pred))"
   ]
  },
  {
   "cell_type": "markdown",
   "metadata": {},
   "source": [
    "# Gradient Boosting"
   ]
  },
  {
   "cell_type": "code",
   "execution_count": 133,
   "metadata": {},
   "outputs": [
    {
     "name": "stderr",
     "output_type": "stream",
     "text": [
      "C:\\Users\\JUSTIN\\Anaconda5\\lib\\site-packages\\sklearn\\ensemble\\gradient_boosting.py:1450: DataConversionWarning: A column-vector y was passed when a 1d array was expected. Please change the shape of y to (n_samples, ), for example using ravel().\n",
      "  y = column_or_1d(y, warn=True)\n"
     ]
    }
   ],
   "source": [
    "from sklearn.ensemble import GradientBoostingClassifier\n",
    "gb = GradientBoostingClassifier()\n",
    "gb.fit(x_train,y_train)\n",
    "y_pred = gb.predict(x_test)"
   ]
  },
  {
   "cell_type": "code",
   "execution_count": 134,
   "metadata": {},
   "outputs": [
    {
     "name": "stdout",
     "output_type": "stream",
     "text": [
      "accuracy: 0.8124145474432595\n",
      "precision: 0.7119831814996496\n",
      "recall: 0.5139099645928173\n",
      "f1_score: 0.5969447708578143\n"
     ]
    }
   ],
   "source": [
    "print('accuracy:',accuracy_score(y_test,y_pred))\n",
    "print('precision:',precision_score(y_test,y_pred))\n",
    "print('recall:',recall_score(y_test,y_pred))\n",
    "print(\"f1_score:\",f1_score(y_test,y_pred))"
   ]
  },
  {
   "cell_type": "markdown",
   "metadata": {},
   "source": [
    "# Standard Scaling"
   ]
  },
  {
   "cell_type": "code",
   "execution_count": 135,
   "metadata": {},
   "outputs": [],
   "source": [
    "from sklearn.preprocessing import StandardScaler\n",
    "scaler=StandardScaler()\n",
    "x_train=scaler.fit_transform(x_train)\n",
    "x_test=scaler.fit_transform(x_test)"
   ]
  },
  {
   "cell_type": "markdown",
   "metadata": {},
   "source": [
    "### Logistics Regression"
   ]
  },
  {
   "cell_type": "code",
   "execution_count": 136,
   "metadata": {},
   "outputs": [
    {
     "name": "stderr",
     "output_type": "stream",
     "text": [
      "C:\\Users\\JUSTIN\\Anaconda5\\lib\\site-packages\\sklearn\\linear_model\\logistic.py:432: FutureWarning: Default solver will be changed to 'lbfgs' in 0.22. Specify a solver to silence this warning.\n",
      "  FutureWarning)\n",
      "C:\\Users\\JUSTIN\\Anaconda5\\lib\\site-packages\\sklearn\\utils\\validation.py:724: DataConversionWarning: A column-vector y was passed when a 1d array was expected. Please change the shape of y to (n_samples, ), for example using ravel().\n",
      "  y = column_or_1d(y, warn=True)\n"
     ]
    }
   ],
   "source": [
    "from sklearn.linear_model import LogisticRegression\n",
    "logit_model=LogisticRegression()\n",
    "logit_model.fit(x_train,y_train)\n",
    "y_pred=logit_model.predict(x_test)"
   ]
  },
  {
   "cell_type": "code",
   "execution_count": 137,
   "metadata": {},
   "outputs": [
    {
     "name": "stdout",
     "output_type": "stream",
     "text": [
      "accuracy: 0.7312004375170905\n",
      "precision: 0.5071151358344114\n",
      "recall: 0.19828022255943348\n",
      "f1_score: 0.28509090909090906\n"
     ]
    }
   ],
   "source": [
    "print('accuracy:',accuracy_score(y_test,y_pred))\n",
    "print('precision:',precision_score(y_test,y_pred))\n",
    "print('recall:',recall_score(y_test,y_pred))\n",
    "print(\"f1_score:\",f1_score(y_test,y_pred))"
   ]
  },
  {
   "cell_type": "markdown",
   "metadata": {},
   "source": [
    "### KNN"
   ]
  },
  {
   "cell_type": "code",
   "execution_count": 138,
   "metadata": {},
   "outputs": [
    {
     "name": "stderr",
     "output_type": "stream",
     "text": [
      "C:\\Users\\JUSTIN\\Anaconda5\\lib\\site-packages\\ipykernel_launcher.py:2: DataConversionWarning: A column-vector y was passed when a 1d array was expected. Please change the shape of y to (n_samples, ), for example using ravel().\n",
      "  \n"
     ]
    }
   ],
   "source": [
    "classifier=KNeighborsClassifier(n_neighbors=75, metric='minkowski')\n",
    "classifier.fit(x_train, y_train)\n",
    "y_pred=classifier.predict(x_test)"
   ]
  },
  {
   "cell_type": "code",
   "execution_count": 139,
   "metadata": {},
   "outputs": [
    {
     "name": "stdout",
     "output_type": "stream",
     "text": [
      "accuracy: 0.7842493847415914\n",
      "precision: 0.6415897799858056\n",
      "recall: 0.45725847243297923\n",
      "f1_score: 0.5339633786178382\n"
     ]
    }
   ],
   "source": [
    "print('accuracy:',accuracy_score(y_test,y_pred))\n",
    "print('precision:',precision_score(y_test,y_pred))\n",
    "print('recall:',recall_score(y_test,y_pred))\n",
    "print(\"f1_score:\",f1_score(y_test,y_pred))"
   ]
  },
  {
   "cell_type": "markdown",
   "metadata": {},
   "source": [
    "### Decision Tree"
   ]
  },
  {
   "cell_type": "code",
   "execution_count": 140,
   "metadata": {},
   "outputs": [],
   "source": [
    "from sklearn.tree import DecisionTreeClassifier\n",
    "dt_model=DecisionTreeClassifier()\n",
    "dt_model.fit(x_train,y_train)\n",
    "y_pred=dt_model.predict(x_test)"
   ]
  },
  {
   "cell_type": "code",
   "execution_count": 141,
   "metadata": {},
   "outputs": [
    {
     "name": "stdout",
     "output_type": "stream",
     "text": [
      "accuracy: 0.7986054142739951\n",
      "precision: 0.6503579952267303\n",
      "recall: 0.5513404147698533\n",
      "f1_score: 0.5967697782644401\n"
     ]
    }
   ],
   "source": [
    "print('accuracy:',accuracy_score(y_test,y_pred))\n",
    "print('precision:',precision_score(y_test,y_pred))\n",
    "print('recall:',recall_score(y_test,y_pred))\n",
    "print(\"f1_score:\",f1_score(y_test,y_pred))"
   ]
  },
  {
   "cell_type": "markdown",
   "metadata": {},
   "source": [
    "### Random Forest"
   ]
  },
  {
   "cell_type": "code",
   "execution_count": 142,
   "metadata": {},
   "outputs": [
    {
     "name": "stderr",
     "output_type": "stream",
     "text": [
      "C:\\Users\\JUSTIN\\Anaconda5\\lib\\site-packages\\ipykernel_launcher.py:3: DataConversionWarning: A column-vector y was passed when a 1d array was expected. Please change the shape of y to (n_samples,), for example using ravel().\n",
      "  This is separate from the ipykernel package so we can avoid doing imports until\n"
     ]
    }
   ],
   "source": [
    "from sklearn.ensemble import RandomForestClassifier\n",
    "Classifier = RandomForestClassifier(n_estimators = 50)\n",
    "Classifier.fit(x_train,y_train)\n",
    "y_predict = Classifier.predict(x_test)"
   ]
  },
  {
   "cell_type": "code",
   "execution_count": 143,
   "metadata": {},
   "outputs": [
    {
     "name": "stdout",
     "output_type": "stream",
     "text": [
      "accuracy: 0.7986054142739951\n",
      "precision: 0.6503579952267303\n",
      "recall: 0.5513404147698533\n",
      "f1_score: 0.5967697782644401\n"
     ]
    }
   ],
   "source": [
    "print('accuracy:',accuracy_score(y_test,y_pred))\n",
    "print('precision:',precision_score(y_test,y_pred))\n",
    "print('recall:',recall_score(y_test,y_pred))\n",
    "print(\"f1_score:\",f1_score(y_test,y_pred))"
   ]
  },
  {
   "cell_type": "markdown",
   "metadata": {},
   "source": [
    "### Gradient boosting"
   ]
  },
  {
   "cell_type": "code",
   "execution_count": 144,
   "metadata": {},
   "outputs": [
    {
     "name": "stderr",
     "output_type": "stream",
     "text": [
      "C:\\Users\\JUSTIN\\Anaconda5\\lib\\site-packages\\sklearn\\ensemble\\gradient_boosting.py:1450: DataConversionWarning: A column-vector y was passed when a 1d array was expected. Please change the shape of y to (n_samples, ), for example using ravel().\n",
      "  y = column_or_1d(y, warn=True)\n"
     ]
    }
   ],
   "source": [
    "from sklearn.ensemble import GradientBoostingClassifier\n",
    "gb = GradientBoostingClassifier()\n",
    "gb.fit(x_train,y_train)\n",
    "y_pred = gb.predict(x_test)"
   ]
  },
  {
   "cell_type": "code",
   "execution_count": 145,
   "metadata": {},
   "outputs": [
    {
     "name": "stdout",
     "output_type": "stream",
     "text": [
      "accuracy: 0.8124145474432595\n",
      "precision: 0.7119831814996496\n",
      "recall: 0.5139099645928173\n",
      "f1_score: 0.5969447708578143\n"
     ]
    }
   ],
   "source": [
    "print('accuracy:',accuracy_score(y_test,y_pred))\n",
    "print('precision:',precision_score(y_test,y_pred))\n",
    "print('recall:',recall_score(y_test,y_pred))\n",
    "print(\"f1_score:\",f1_score(y_test,y_pred))"
   ]
  },
  {
   "cell_type": "markdown",
   "metadata": {},
   "source": [
    "# Min-Max Scaling"
   ]
  },
  {
   "cell_type": "code",
   "execution_count": 146,
   "metadata": {},
   "outputs": [],
   "source": [
    "y=data['salary']\n",
    "x=data.drop(['salary',],axis=1)"
   ]
  },
  {
   "cell_type": "code",
   "execution_count": 147,
   "metadata": {},
   "outputs": [],
   "source": [
    "from sklearn.model_selection import train_test_split\n",
    "x_train,x_test,y_train,y_test=train_test_split(x,y,random_state=42,test_size=0.2)"
   ]
  },
  {
   "cell_type": "code",
   "execution_count": 148,
   "metadata": {},
   "outputs": [
    {
     "ename": "NameError",
     "evalue": "name 'preprocessing' is not defined",
     "output_type": "error",
     "traceback": [
      "\u001b[1;31m---------------------------------------------------------------------------\u001b[0m",
      "\u001b[1;31mNameError\u001b[0m                                 Traceback (most recent call last)",
      "\u001b[1;32m<ipython-input-148-626d9b467bd7>\u001b[0m in \u001b[0;36m<module>\u001b[1;34m\u001b[0m\n\u001b[1;32m----> 1\u001b[1;33m \u001b[0mmin_max\u001b[0m\u001b[1;33m=\u001b[0m\u001b[0mpreprocessing\u001b[0m\u001b[1;33m.\u001b[0m\u001b[0mMinMaxScaler\u001b[0m\u001b[1;33m(\u001b[0m\u001b[0mfeature_range\u001b[0m\u001b[1;33m=\u001b[0m\u001b[1;33m(\u001b[0m\u001b[1;36m0\u001b[0m\u001b[1;33m,\u001b[0m\u001b[1;36m1\u001b[0m\u001b[1;33m)\u001b[0m\u001b[1;33m)\u001b[0m\u001b[1;33m\u001b[0m\u001b[1;33m\u001b[0m\u001b[0m\n\u001b[0m\u001b[0;32m      2\u001b[0m \u001b[0mx_train\u001b[0m\u001b[1;33m=\u001b[0m\u001b[0mmin_max\u001b[0m\u001b[1;33m.\u001b[0m\u001b[0mfit_transform\u001b[0m\u001b[1;33m(\u001b[0m\u001b[0mx_train\u001b[0m\u001b[1;33m)\u001b[0m\u001b[1;33m\u001b[0m\u001b[1;33m\u001b[0m\u001b[0m\n\u001b[0;32m      3\u001b[0m \u001b[0mx_test\u001b[0m\u001b[1;33m=\u001b[0m\u001b[0mmin_max\u001b[0m\u001b[1;33m.\u001b[0m\u001b[0mfit_transform\u001b[0m\u001b[1;33m(\u001b[0m\u001b[0mx_test\u001b[0m\u001b[1;33m)\u001b[0m\u001b[1;33m\u001b[0m\u001b[1;33m\u001b[0m\u001b[0m\n",
      "\u001b[1;31mNameError\u001b[0m: name 'preprocessing' is not defined"
     ]
    }
   ],
   "source": [
    "min_max=preprocessing.MinMaxScaler(feature_range=(0,1))\n",
    "x_train=min_max.fit_transform(x_train)\n",
    "x_test=min_max.fit_transform(x_test)"
   ]
  },
  {
   "cell_type": "markdown",
   "metadata": {},
   "source": [
    "### Logistic Regression"
   ]
  },
  {
   "cell_type": "code",
   "execution_count": 149,
   "metadata": {},
   "outputs": [
    {
     "name": "stderr",
     "output_type": "stream",
     "text": [
      "C:\\Users\\JUSTIN\\Anaconda5\\lib\\site-packages\\sklearn\\linear_model\\logistic.py:432: FutureWarning: Default solver will be changed to 'lbfgs' in 0.22. Specify a solver to silence this warning.\n",
      "  FutureWarning)\n"
     ]
    }
   ],
   "source": [
    "from sklearn.linear_model import LogisticRegression\n",
    "logit_model=LogisticRegression()\n",
    "logit_model.fit(x_train,y_train)\n",
    "y_pred=logit_model.predict(x_test)"
   ]
  },
  {
   "cell_type": "code",
   "execution_count": 150,
   "metadata": {},
   "outputs": [
    {
     "name": "stdout",
     "output_type": "stream",
     "text": [
      "accuracy: 0.7383261899390932\n",
      "precision: 0.5361842105263158\n",
      "recall: 0.2707641196013289\n",
      "f1_score: 0.3598233995584989\n"
     ]
    }
   ],
   "source": [
    "print('accuracy:',accuracy_score(y_test,y_pred))\n",
    "print('precision:',precision_score(y_test,y_pred))\n",
    "print('recall:',recall_score(y_test,y_pred))\n",
    "print(\"f1_score:\",f1_score(y_test,y_pred))"
   ]
  },
  {
   "cell_type": "markdown",
   "metadata": {},
   "source": [
    "### KNN"
   ]
  },
  {
   "cell_type": "code",
   "execution_count": 151,
   "metadata": {},
   "outputs": [],
   "source": [
    "classifier=KNeighborsClassifier(n_neighbors=75, metric='minkowski')\n",
    "classifier.fit(x_train, y_train)\n",
    "y_pred=classifier.predict(x_test)"
   ]
  },
  {
   "cell_type": "code",
   "execution_count": 152,
   "metadata": {},
   "outputs": [
    {
     "name": "stdout",
     "output_type": "stream",
     "text": [
      "accuracy: 0.7805098127678772\n",
      "precision: 0.6296296296296297\n",
      "recall: 0.4659468438538206\n",
      "f1_score: 0.5355608591885441\n"
     ]
    }
   ],
   "source": [
    "print('accuracy:',accuracy_score(y_test,y_pred))\n",
    "print('precision:',precision_score(y_test,y_pred))\n",
    "print('recall:',recall_score(y_test,y_pred))\n",
    "print(\"f1_score:\",f1_score(y_test,y_pred))"
   ]
  },
  {
   "cell_type": "markdown",
   "metadata": {},
   "source": [
    "### Decision Tree"
   ]
  },
  {
   "cell_type": "code",
   "execution_count": 153,
   "metadata": {},
   "outputs": [],
   "source": [
    "from sklearn.tree import DecisionTreeClassifier\n",
    "dt_model=DecisionTreeClassifier()\n",
    "dt_model.fit(x_train,y_train)\n",
    "y_pred=dt_model.predict(x_test)"
   ]
  },
  {
   "cell_type": "code",
   "execution_count": 154,
   "metadata": {},
   "outputs": [
    {
     "name": "stdout",
     "output_type": "stream",
     "text": [
      "accuracy: 0.8030678998420934\n",
      "precision: 0.6620959843290891\n",
      "recall: 0.5614617940199336\n",
      "f1_score: 0.6076404494382023\n"
     ]
    }
   ],
   "source": [
    "print('accuracy:',accuracy_score(y_test,y_pred))\n",
    "print('precision:',precision_score(y_test,y_pred))\n",
    "print('recall:',recall_score(y_test,y_pred))\n",
    "print(\"f1_score:\",f1_score(y_test,y_pred))"
   ]
  },
  {
   "cell_type": "markdown",
   "metadata": {},
   "source": [
    "### Random Forest"
   ]
  },
  {
   "cell_type": "code",
   "execution_count": 155,
   "metadata": {},
   "outputs": [],
   "source": [
    "from sklearn.ensemble import RandomForestClassifier\n",
    "Classifier = RandomForestClassifier(n_estimators = 50)\n",
    "Classifier.fit(x_train,y_train)\n",
    "y_predict = Classifier.predict(x_test)"
   ]
  },
  {
   "cell_type": "code",
   "execution_count": 156,
   "metadata": {},
   "outputs": [
    {
     "name": "stdout",
     "output_type": "stream",
     "text": [
      "accuracy: 0.8030678998420934\n",
      "precision: 0.6620959843290891\n",
      "recall: 0.5614617940199336\n",
      "f1_score: 0.6076404494382023\n"
     ]
    }
   ],
   "source": [
    "print('accuracy:',accuracy_score(y_test,y_pred))\n",
    "print('precision:',precision_score(y_test,y_pred))\n",
    "print('recall:',recall_score(y_test,y_pred))\n",
    "print(\"f1_score:\",f1_score(y_test,y_pred))"
   ]
  },
  {
   "cell_type": "markdown",
   "metadata": {},
   "source": [
    "### Gradient Boosting"
   ]
  },
  {
   "cell_type": "code",
   "execution_count": 157,
   "metadata": {},
   "outputs": [],
   "source": [
    "from sklearn.ensemble import GradientBoostingClassifier\n",
    "gb = GradientBoostingClassifier()\n",
    "gb.fit(x_train,y_train)\n",
    "y_pred = gb.predict(x_test)"
   ]
  },
  {
   "cell_type": "code",
   "execution_count": 158,
   "metadata": {},
   "outputs": [
    {
     "name": "stdout",
     "output_type": "stream",
     "text": [
      "accuracy: 0.8120911346717798\n",
      "precision: 0.7174677608440797\n",
      "recall: 0.5083056478405316\n",
      "f1_score: 0.5950413223140496\n"
     ]
    }
   ],
   "source": [
    "print('accuracy:',accuracy_score(y_test,y_pred))\n",
    "print('precision:',precision_score(y_test,y_pred))\n",
    "print('recall:',recall_score(y_test,y_pred))\n",
    "print(\"f1_score:\",f1_score(y_test,y_pred))"
   ]
  },
  {
   "cell_type": "markdown",
   "metadata": {},
   "source": [
    "# Normalization"
   ]
  },
  {
   "cell_type": "code",
   "execution_count": 159,
   "metadata": {},
   "outputs": [],
   "source": [
    "y=data['salary']\n",
    "x=data.drop(['salary',],axis=1)"
   ]
  },
  {
   "cell_type": "code",
   "execution_count": 160,
   "metadata": {},
   "outputs": [
    {
     "ename": "NameError",
     "evalue": "name 'preprocessing' is not defined",
     "output_type": "error",
     "traceback": [
      "\u001b[1;31m---------------------------------------------------------------------------\u001b[0m",
      "\u001b[1;31mNameError\u001b[0m                                 Traceback (most recent call last)",
      "\u001b[1;32m<ipython-input-160-872c35069ea8>\u001b[0m in \u001b[0;36m<module>\u001b[1;34m\u001b[0m\n\u001b[1;32m----> 1\u001b[1;33m \u001b[0mx\u001b[0m\u001b[1;33m=\u001b[0m\u001b[0mpreprocessing\u001b[0m\u001b[1;33m.\u001b[0m\u001b[0mnormalize\u001b[0m\u001b[1;33m(\u001b[0m\u001b[0mx\u001b[0m\u001b[1;33m)\u001b[0m\u001b[1;33m\u001b[0m\u001b[1;33m\u001b[0m\u001b[0m\n\u001b[0m",
      "\u001b[1;31mNameError\u001b[0m: name 'preprocessing' is not defined"
     ]
    }
   ],
   "source": [
    "x=preprocessing.normalize(x)"
   ]
  },
  {
   "cell_type": "code",
   "execution_count": 161,
   "metadata": {},
   "outputs": [],
   "source": [
    "from sklearn.model_selection import train_test_split\n",
    "x_train,x_test,y_train,y_test=train_test_split(x,y,random_state=42,test_size=0.2)"
   ]
  },
  {
   "cell_type": "markdown",
   "metadata": {},
   "source": [
    "### Logistic Regression"
   ]
  },
  {
   "cell_type": "code",
   "execution_count": 162,
   "metadata": {},
   "outputs": [
    {
     "name": "stderr",
     "output_type": "stream",
     "text": [
      "C:\\Users\\JUSTIN\\Anaconda5\\lib\\site-packages\\sklearn\\linear_model\\logistic.py:432: FutureWarning: Default solver will be changed to 'lbfgs' in 0.22. Specify a solver to silence this warning.\n",
      "  FutureWarning)\n"
     ]
    }
   ],
   "source": [
    "from sklearn.linear_model import LogisticRegression\n",
    "logit_model=LogisticRegression()\n",
    "logit_model.fit(x_train,y_train)\n",
    "y_pred=logit_model.predict(x_test)"
   ]
  },
  {
   "cell_type": "code",
   "execution_count": 163,
   "metadata": {},
   "outputs": [
    {
     "name": "stdout",
     "output_type": "stream",
     "text": [
      "accuracy: 0.7383261899390932\n",
      "precision: 0.5361842105263158\n",
      "recall: 0.2707641196013289\n",
      "f1_score: 0.3598233995584989\n"
     ]
    }
   ],
   "source": [
    "print('accuracy:',accuracy_score(y_test,y_pred))\n",
    "print('precision:',precision_score(y_test,y_pred))\n",
    "print('recall:',recall_score(y_test,y_pred))\n",
    "print(\"f1_score:\",f1_score(y_test,y_pred))"
   ]
  },
  {
   "cell_type": "markdown",
   "metadata": {},
   "source": [
    "### KNN"
   ]
  },
  {
   "cell_type": "code",
   "execution_count": 164,
   "metadata": {},
   "outputs": [],
   "source": [
    "classifier=KNeighborsClassifier(n_neighbors=75, metric='minkowski')\n",
    "classifier.fit(x_train, y_train)\n",
    "y_pred=classifier.predict(x_test)"
   ]
  },
  {
   "cell_type": "code",
   "execution_count": 165,
   "metadata": {},
   "outputs": [
    {
     "name": "stdout",
     "output_type": "stream",
     "text": [
      "accuracy: 0.7805098127678772\n",
      "precision: 0.6296296296296297\n",
      "recall: 0.4659468438538206\n",
      "f1_score: 0.5355608591885441\n"
     ]
    }
   ],
   "source": [
    "print('accuracy:',accuracy_score(y_test,y_pred))\n",
    "print('precision:',precision_score(y_test,y_pred))\n",
    "print('recall:',recall_score(y_test,y_pred))\n",
    "print(\"f1_score:\",f1_score(y_test,y_pred))"
   ]
  },
  {
   "cell_type": "markdown",
   "metadata": {},
   "source": [
    "### Decision tree"
   ]
  },
  {
   "cell_type": "code",
   "execution_count": 166,
   "metadata": {},
   "outputs": [],
   "source": [
    "from sklearn.tree import DecisionTreeClassifier\n",
    "dt_model=DecisionTreeClassifier()\n",
    "dt_model.fit(x_train,y_train)\n",
    "y_pred=dt_model.predict(x_test)"
   ]
  },
  {
   "cell_type": "code",
   "execution_count": 167,
   "metadata": {},
   "outputs": [
    {
     "name": "stdout",
     "output_type": "stream",
     "text": [
      "accuracy: 0.8028423189713513\n",
      "precision: 0.6620825147347741\n",
      "recall: 0.5598006644518272\n",
      "f1_score: 0.6066606660666067\n"
     ]
    }
   ],
   "source": [
    "print('accuracy:',accuracy_score(y_test,y_pred))\n",
    "print('precision:',precision_score(y_test,y_pred))\n",
    "print('recall:',recall_score(y_test,y_pred))\n",
    "print(\"f1_score:\",f1_score(y_test,y_pred))"
   ]
  },
  {
   "cell_type": "markdown",
   "metadata": {},
   "source": [
    "### Random Forest"
   ]
  },
  {
   "cell_type": "code",
   "execution_count": 168,
   "metadata": {},
   "outputs": [],
   "source": [
    "from sklearn.ensemble import RandomForestClassifier\n",
    "Classifier = RandomForestClassifier(n_estimators = 50)\n",
    "Classifier.fit(x_train,y_train)\n",
    "y_predict = Classifier.predict(x_test)"
   ]
  },
  {
   "cell_type": "code",
   "execution_count": 169,
   "metadata": {},
   "outputs": [
    {
     "name": "stdout",
     "output_type": "stream",
     "text": [
      "accuracy: 0.8028423189713513\n",
      "precision: 0.6620825147347741\n",
      "recall: 0.5598006644518272\n",
      "f1_score: 0.6066606660666067\n"
     ]
    }
   ],
   "source": [
    "print('accuracy:',accuracy_score(y_test,y_pred))\n",
    "print('precision:',precision_score(y_test,y_pred))\n",
    "print('recall:',recall_score(y_test,y_pred))\n",
    "print(\"f1_score:\",f1_score(y_test,y_pred))"
   ]
  },
  {
   "cell_type": "markdown",
   "metadata": {},
   "source": [
    "### Gradient boosting"
   ]
  },
  {
   "cell_type": "code",
   "execution_count": 170,
   "metadata": {},
   "outputs": [],
   "source": [
    "from sklearn.ensemble import GradientBoostingClassifier\n",
    "gb = GradientBoostingClassifier()\n",
    "gb.fit(x_train,y_train)\n",
    "y_pred = gb.predict(x_test)"
   ]
  },
  {
   "cell_type": "code",
   "execution_count": 171,
   "metadata": {},
   "outputs": [
    {
     "name": "stdout",
     "output_type": "stream",
     "text": [
      "accuracy: 0.8120911346717798\n",
      "precision: 0.7174677608440797\n",
      "recall: 0.5083056478405316\n",
      "f1_score: 0.5950413223140496\n"
     ]
    }
   ],
   "source": [
    "print('accuracy:',accuracy_score(y_test,y_pred))\n",
    "print('precision:',precision_score(y_test,y_pred))\n",
    "print('recall:',recall_score(y_test,y_pred))\n",
    "print(\"f1_score:\",f1_score(y_test,y_pred))"
   ]
  },
  {
   "cell_type": "markdown",
   "metadata": {},
   "source": [
    "# Selected model"
   ]
  },
  {
   "cell_type": "markdown",
   "metadata": {},
   "source": [
    "# Gradient boosting"
   ]
  },
  {
   "cell_type": "code",
   "execution_count": 1,
   "metadata": {},
   "outputs": [
    {
     "ename": "NameError",
     "evalue": "name 'data' is not defined",
     "output_type": "error",
     "traceback": [
      "\u001b[1;31m---------------------------------------------------------------------------\u001b[0m",
      "\u001b[1;31mNameError\u001b[0m                                 Traceback (most recent call last)",
      "\u001b[1;32m<ipython-input-1-93eb3faad164>\u001b[0m in \u001b[0;36m<module>\u001b[1;34m\u001b[0m\n\u001b[1;32m----> 1\u001b[1;33m \u001b[0my\u001b[0m\u001b[1;33m=\u001b[0m\u001b[0mdata\u001b[0m\u001b[1;33m[\u001b[0m\u001b[1;34m'salary'\u001b[0m\u001b[1;33m]\u001b[0m\u001b[1;33m\u001b[0m\u001b[1;33m\u001b[0m\u001b[0m\n\u001b[0m\u001b[0;32m      2\u001b[0m \u001b[0mx\u001b[0m\u001b[1;33m=\u001b[0m\u001b[0mdata\u001b[0m\u001b[1;33m.\u001b[0m\u001b[0mdrop\u001b[0m\u001b[1;33m(\u001b[0m\u001b[1;33m[\u001b[0m\u001b[1;34m'salary'\u001b[0m\u001b[1;33m,\u001b[0m\u001b[1;33m]\u001b[0m\u001b[1;33m,\u001b[0m\u001b[0maxis\u001b[0m\u001b[1;33m=\u001b[0m\u001b[1;36m1\u001b[0m\u001b[1;33m)\u001b[0m\u001b[1;33m\u001b[0m\u001b[1;33m\u001b[0m\u001b[0m\n",
      "\u001b[1;31mNameError\u001b[0m: name 'data' is not defined"
     ]
    }
   ],
   "source": [
    "y=data['salary']\n",
    "x=data.drop(['salary',],axis=1)"
   ]
  },
  {
   "cell_type": "code",
   "execution_count": null,
   "metadata": {},
   "outputs": [],
   "source": [
    "from sklearn.model_selection import train_test_split\n",
    "x_train,x_test,y_train,y_test=train_test_split(x,y,random_state=42,test_size=0.2)"
   ]
  },
  {
   "cell_type": "code",
   "execution_count": 2,
   "metadata": {},
   "outputs": [],
   "source": [
    "#Hyper parameter tuning"
   ]
  },
  {
   "cell_type": "code",
   "execution_count": 77,
   "metadata": {},
   "outputs": [],
   "source": [
    "from sklearn.ensemble import GradientBoostingClassifier\n",
    "from sklearn.model_selection import GridSearchCV\n"
   ]
  },
  {
   "cell_type": "code",
   "execution_count": null,
   "metadata": {},
   "outputs": [],
   "source": [
    "parameters = {'learning_rate':[0.15,0.1,0.05,0.01,0.005,0.001], 'n_estimators':[100,250,500,750,1000,1250,1500,1750]}\n",
    "\n",
    "tuning = GridSearchCV(estimator =GradientBoostingClassifier(max_depth=4, min_samples_split=2, min_samples_leaf=1, subsample=1,max_features='sqrt', random_state=10), \n",
    "            param_grid = parameters, scoring='accuracy',n_jobs=4,iid=False, cv=5)\n",
    "tuning.fit(x_train,y_train)\n",
    "tuning.best_params_, tuning.best_score_"
   ]
  },
  {
   "cell_type": "code",
   "execution_count": null,
   "metadata": {},
   "outputs": [],
   "source": [
    "parameter2 = {'max_depth':[2,3,4,5,6,7] }\n",
    "tuning = GridSearchCV(estimator =GradientBoostingClassifier(learning_rate=0.01,n_estimators=1750, min_samples_split=2, min_samples_leaf=1, subsample=1,max_features='sqrt', random_state=10), \n",
    "            param_grid = parameter2, scoring='accuracy',n_jobs=4,iid=False, cv=5)\n",
    "tuning.fit(x_train,y_train)\n",
    "tuning.best_params_, tuning.best_score_"
   ]
  },
  {
   "cell_type": "code",
   "execution_count": 83,
   "metadata": {},
   "outputs": [],
   "source": [
    "from sklearn.ensemble import GradientBoostingClassifier\n",
    "gb = GradientBoostingClassifier(learning_rate=0.01, n_estimators=1750,max_depth=5, min_samples_split=2, min_samples_leaf=1, subsample=1,max_features='sqrt', random_state=10)\n",
    "gb.fit(x_train,y_train)\n",
    "y_pred = gb.predict(x_test)"
   ]
  },
  {
   "cell_type": "code",
   "execution_count": 85,
   "metadata": {},
   "outputs": [
    {
     "name": "stdout",
     "output_type": "stream",
     "text": [
      "accuracy: 0.8597274960911324\n",
      "precision: 0.7436743674367436\n",
      "recall: 0.6311858076563959\n",
      "f1_score: 0.6828282828282828\n"
     ]
    }
   ],
   "source": [
    "from sklearn.metrics import confusion_matrix,accuracy_score,recall_score,f1_score,precision_score\n",
    "print('accuracy:',accuracy_score(y_test,y_pred))\n",
    "print('precision:',precision_score(y_test,y_pred))\n",
    "print('recall:',recall_score(y_test,y_pred))\n",
    "print(\"f1_score:\",f1_score(y_test,y_pred))"
   ]
  },
  {
   "cell_type": "code",
   "execution_count": 57,
   "metadata": {},
   "outputs": [
    {
     "data": {
      "text/plain": [
       "array([1])"
      ]
     },
     "execution_count": 57,
     "metadata": {},
     "output_type": "execute_result"
    }
   ],
   "source": [
    "#feeding the predict function with our test values in the format \n",
    "[['relationship','education','race','occupation','gender','marital','workclass']]\n",
    "reg.predict([[1,7,3,7,0,2,0]])"
   ]
  },
  {
   "cell_type": "code",
   "execution_count": null,
   "metadata": {},
   "outputs": [],
   "source": [
    "print(\"Accuracy:\",metrics.accuracy_score(y_test, y_pred))"
   ]
  }
 ],
 "metadata": {
  "kernelspec": {
   "display_name": "Python 3",
   "language": "python",
   "name": "python3"
  },
  "language_info": {
   "codemirror_mode": {
    "name": "ipython",
    "version": 3
   },
   "file_extension": ".py",
   "mimetype": "text/x-python",
   "name": "python",
   "nbconvert_exporter": "python",
   "pygments_lexer": "ipython3",
   "version": "3.7.4"
  }
 },
 "nbformat": 4,
 "nbformat_minor": 2
}
